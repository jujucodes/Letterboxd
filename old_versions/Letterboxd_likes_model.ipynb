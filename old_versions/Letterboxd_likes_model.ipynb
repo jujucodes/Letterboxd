{
 "cells": [
  {
   "cell_type": "code",
   "execution_count": 1,
   "metadata": {
    "scrolled": false
   },
   "outputs": [],
   "source": [
    "# genre feature training"
   ]
  },
  {
   "cell_type": "code",
   "execution_count": 75,
   "metadata": {
    "scrolled": false
   },
   "outputs": [],
   "source": [
    "import pandas as pd\n",
    "import matplotlib.pyplot as plt\n",
    "import seaborn as sns\n",
    "from sklearn.linear_model import LinearRegression \n",
    "from sklearn.metrics import mean_squared_error\n",
    "from sklearn.model_selection import train_test_split\n",
    "from sklearn.model_selection import cross_val_score\n",
    "import numpy as np\n",
    "pd.options.display.max_columns = 10000"
   ]
  },
  {
   "cell_type": "code",
   "execution_count": 76,
   "metadata": {},
   "outputs": [],
   "source": [
    "#read in new df from preprocessing\n",
    "df = pd.read_csv('preprocessed_letterboxd.csv')"
   ]
  },
  {
   "cell_type": "code",
   "execution_count": 77,
   "metadata": {
    "scrolled": true
   },
   "outputs": [
    {
     "data": {
      "text/html": [
       "<div>\n",
       "<style scoped>\n",
       "    .dataframe tbody tr th:only-of-type {\n",
       "        vertical-align: middle;\n",
       "    }\n",
       "\n",
       "    .dataframe tbody tr th {\n",
       "        vertical-align: top;\n",
       "    }\n",
       "\n",
       "    .dataframe thead th {\n",
       "        text-align: right;\n",
       "    }\n",
       "</style>\n",
       "<table border=\"1\" class=\"dataframe\">\n",
       "  <thead>\n",
       "    <tr style=\"text-align: right;\">\n",
       "      <th></th>\n",
       "      <th>title</th>\n",
       "      <th>year</th>\n",
       "      <th>director</th>\n",
       "      <th>running_time</th>\n",
       "      <th>views</th>\n",
       "      <th>likes</th>\n",
       "      <th>avg_rating</th>\n",
       "      <th>half_star</th>\n",
       "      <th>one_star</th>\n",
       "      <th>one_half_star</th>\n",
       "      <th>two_star</th>\n",
       "      <th>two_half_star</th>\n",
       "      <th>three_star</th>\n",
       "      <th>three_half_star</th>\n",
       "      <th>four_star</th>\n",
       "      <th>four_half_star</th>\n",
       "      <th>five_star</th>\n",
       "      <th>genre</th>\n",
       "      <th>year_isna</th>\n",
       "      <th>animation</th>\n",
       "      <th>horror</th>\n",
       "      <th>scifi</th>\n",
       "      <th>thriller</th>\n",
       "      <th>war</th>\n",
       "    </tr>\n",
       "  </thead>\n",
       "  <tbody>\n",
       "    <tr>\n",
       "      <th>0</th>\n",
       "      <td>Get Out</td>\n",
       "      <td>2017.0</td>\n",
       "      <td>Jordan Peele</td>\n",
       "      <td>104</td>\n",
       "      <td>605132</td>\n",
       "      <td>261668</td>\n",
       "      <td>4.1</td>\n",
       "      <td>647</td>\n",
       "      <td>1560</td>\n",
       "      <td>1001</td>\n",
       "      <td>5727</td>\n",
       "      <td>5821</td>\n",
       "      <td>34069</td>\n",
       "      <td>45053</td>\n",
       "      <td>136842</td>\n",
       "      <td>65726</td>\n",
       "      <td>110264</td>\n",
       "      <td>horror</td>\n",
       "      <td>False</td>\n",
       "      <td>0</td>\n",
       "      <td>1</td>\n",
       "      <td>0</td>\n",
       "      <td>0</td>\n",
       "      <td>0</td>\n",
       "    </tr>\n",
       "    <tr>\n",
       "      <th>1</th>\n",
       "      <td>Zombieland</td>\n",
       "      <td>2009.0</td>\n",
       "      <td>Ruben Fleischer</td>\n",
       "      <td>88</td>\n",
       "      <td>339357</td>\n",
       "      <td>77110</td>\n",
       "      <td>3.6</td>\n",
       "      <td>477</td>\n",
       "      <td>1384</td>\n",
       "      <td>1353</td>\n",
       "      <td>6280</td>\n",
       "      <td>9055</td>\n",
       "      <td>37228</td>\n",
       "      <td>43168</td>\n",
       "      <td>53117</td>\n",
       "      <td>10931</td>\n",
       "      <td>11907</td>\n",
       "      <td>horror</td>\n",
       "      <td>False</td>\n",
       "      <td>0</td>\n",
       "      <td>1</td>\n",
       "      <td>0</td>\n",
       "      <td>0</td>\n",
       "      <td>0</td>\n",
       "    </tr>\n",
       "    <tr>\n",
       "      <th>2</th>\n",
       "      <td>Suspiria</td>\n",
       "      <td>2018.0</td>\n",
       "      <td>Luca Guadagnino</td>\n",
       "      <td>152</td>\n",
       "      <td>122728</td>\n",
       "      <td>37820</td>\n",
       "      <td>3.7</td>\n",
       "      <td>611</td>\n",
       "      <td>1253</td>\n",
       "      <td>1266</td>\n",
       "      <td>4151</td>\n",
       "      <td>4844</td>\n",
       "      <td>12282</td>\n",
       "      <td>15033</td>\n",
       "      <td>25865</td>\n",
       "      <td>13732</td>\n",
       "      <td>12889</td>\n",
       "      <td>horror</td>\n",
       "      <td>False</td>\n",
       "      <td>0</td>\n",
       "      <td>1</td>\n",
       "      <td>0</td>\n",
       "      <td>0</td>\n",
       "      <td>0</td>\n",
       "    </tr>\n",
       "    <tr>\n",
       "      <th>3</th>\n",
       "      <td>Halloween</td>\n",
       "      <td>1978.0</td>\n",
       "      <td>John Carpenter</td>\n",
       "      <td>91</td>\n",
       "      <td>212751</td>\n",
       "      <td>59124</td>\n",
       "      <td>4.0</td>\n",
       "      <td>204</td>\n",
       "      <td>700</td>\n",
       "      <td>602</td>\n",
       "      <td>3003</td>\n",
       "      <td>3627</td>\n",
       "      <td>15715</td>\n",
       "      <td>17598</td>\n",
       "      <td>35627</td>\n",
       "      <td>14882</td>\n",
       "      <td>29077</td>\n",
       "      <td>horror</td>\n",
       "      <td>False</td>\n",
       "      <td>0</td>\n",
       "      <td>1</td>\n",
       "      <td>0</td>\n",
       "      <td>0</td>\n",
       "      <td>0</td>\n",
       "    </tr>\n",
       "    <tr>\n",
       "      <th>4</th>\n",
       "      <td>Rosemary's Baby</td>\n",
       "      <td>1968.0</td>\n",
       "      <td>Roman Polanski</td>\n",
       "      <td>137</td>\n",
       "      <td>158689</td>\n",
       "      <td>46272</td>\n",
       "      <td>4.2</td>\n",
       "      <td>156</td>\n",
       "      <td>372</td>\n",
       "      <td>253</td>\n",
       "      <td>1326</td>\n",
       "      <td>1412</td>\n",
       "      <td>6933</td>\n",
       "      <td>9562</td>\n",
       "      <td>27455</td>\n",
       "      <td>18616</td>\n",
       "      <td>24435</td>\n",
       "      <td>horror</td>\n",
       "      <td>False</td>\n",
       "      <td>0</td>\n",
       "      <td>1</td>\n",
       "      <td>0</td>\n",
       "      <td>0</td>\n",
       "      <td>0</td>\n",
       "    </tr>\n",
       "  </tbody>\n",
       "</table>\n",
       "</div>"
      ],
      "text/plain": [
       "             title    year         director  running_time   views   likes  \\\n",
       "0          Get Out  2017.0     Jordan Peele           104  605132  261668   \n",
       "1       Zombieland  2009.0  Ruben Fleischer            88  339357   77110   \n",
       "2         Suspiria  2018.0  Luca Guadagnino           152  122728   37820   \n",
       "3        Halloween  1978.0   John Carpenter            91  212751   59124   \n",
       "4  Rosemary's Baby  1968.0   Roman Polanski           137  158689   46272   \n",
       "\n",
       "   avg_rating  half_star  one_star  one_half_star  two_star  two_half_star  \\\n",
       "0         4.1        647      1560           1001      5727           5821   \n",
       "1         3.6        477      1384           1353      6280           9055   \n",
       "2         3.7        611      1253           1266      4151           4844   \n",
       "3         4.0        204       700            602      3003           3627   \n",
       "4         4.2        156       372            253      1326           1412   \n",
       "\n",
       "   three_star  three_half_star  four_star  four_half_star  five_star   genre  \\\n",
       "0       34069            45053     136842           65726     110264  horror   \n",
       "1       37228            43168      53117           10931      11907  horror   \n",
       "2       12282            15033      25865           13732      12889  horror   \n",
       "3       15715            17598      35627           14882      29077  horror   \n",
       "4        6933             9562      27455           18616      24435  horror   \n",
       "\n",
       "   year_isna  animation  horror  scifi  thriller  war  \n",
       "0      False          0       1      0         0    0  \n",
       "1      False          0       1      0         0    0  \n",
       "2      False          0       1      0         0    0  \n",
       "3      False          0       1      0         0    0  \n",
       "4      False          0       1      0         0    0  "
      ]
     },
     "execution_count": 77,
     "metadata": {},
     "output_type": "execute_result"
    }
   ],
   "source": [
    "df.head()"
   ]
  },
  {
   "cell_type": "code",
   "execution_count": 78,
   "metadata": {
    "scrolled": true
   },
   "outputs": [
    {
     "data": {
      "text/html": [
       "<div>\n",
       "<style scoped>\n",
       "    .dataframe tbody tr th:only-of-type {\n",
       "        vertical-align: middle;\n",
       "    }\n",
       "\n",
       "    .dataframe tbody tr th {\n",
       "        vertical-align: top;\n",
       "    }\n",
       "\n",
       "    .dataframe thead th {\n",
       "        text-align: right;\n",
       "    }\n",
       "</style>\n",
       "<table border=\"1\" class=\"dataframe\">\n",
       "  <thead>\n",
       "    <tr style=\"text-align: right;\">\n",
       "      <th></th>\n",
       "      <th>title</th>\n",
       "      <th>year</th>\n",
       "      <th>director</th>\n",
       "      <th>running_time</th>\n",
       "      <th>views</th>\n",
       "      <th>likes</th>\n",
       "      <th>avg_rating</th>\n",
       "      <th>half_star</th>\n",
       "      <th>one_star</th>\n",
       "      <th>one_half_star</th>\n",
       "      <th>two_star</th>\n",
       "      <th>two_half_star</th>\n",
       "      <th>three_star</th>\n",
       "      <th>three_half_star</th>\n",
       "      <th>four_star</th>\n",
       "      <th>four_half_star</th>\n",
       "      <th>five_star</th>\n",
       "      <th>genre</th>\n",
       "      <th>year_isna</th>\n",
       "      <th>animation</th>\n",
       "      <th>horror</th>\n",
       "      <th>scifi</th>\n",
       "      <th>thriller</th>\n",
       "      <th>war</th>\n",
       "    </tr>\n",
       "  </thead>\n",
       "  <tbody>\n",
       "    <tr>\n",
       "      <th>count</th>\n",
       "      <td>40018</td>\n",
       "      <td>40018.000000</td>\n",
       "      <td>40018</td>\n",
       "      <td>40018.000000</td>\n",
       "      <td>40018.000000</td>\n",
       "      <td>40018.000000</td>\n",
       "      <td>40018.000000</td>\n",
       "      <td>40018.000000</td>\n",
       "      <td>40018.000000</td>\n",
       "      <td>40018.000000</td>\n",
       "      <td>40018.000000</td>\n",
       "      <td>40018.000000</td>\n",
       "      <td>40018.000000</td>\n",
       "      <td>40018.000000</td>\n",
       "      <td>40018.000000</td>\n",
       "      <td>40018.000000</td>\n",
       "      <td>40018.000000</td>\n",
       "      <td>40018</td>\n",
       "      <td>40018</td>\n",
       "      <td>40018.000000</td>\n",
       "      <td>40018.000000</td>\n",
       "      <td>40018.000000</td>\n",
       "      <td>40018.000000</td>\n",
       "      <td>40018.000000</td>\n",
       "    </tr>\n",
       "    <tr>\n",
       "      <th>unique</th>\n",
       "      <td>30378</td>\n",
       "      <td>NaN</td>\n",
       "      <td>16293</td>\n",
       "      <td>NaN</td>\n",
       "      <td>NaN</td>\n",
       "      <td>NaN</td>\n",
       "      <td>NaN</td>\n",
       "      <td>NaN</td>\n",
       "      <td>NaN</td>\n",
       "      <td>NaN</td>\n",
       "      <td>NaN</td>\n",
       "      <td>NaN</td>\n",
       "      <td>NaN</td>\n",
       "      <td>NaN</td>\n",
       "      <td>NaN</td>\n",
       "      <td>NaN</td>\n",
       "      <td>NaN</td>\n",
       "      <td>5</td>\n",
       "      <td>2</td>\n",
       "      <td>NaN</td>\n",
       "      <td>NaN</td>\n",
       "      <td>NaN</td>\n",
       "      <td>NaN</td>\n",
       "      <td>NaN</td>\n",
       "    </tr>\n",
       "    <tr>\n",
       "      <th>top</th>\n",
       "      <td>Frankenstein</td>\n",
       "      <td>NaN</td>\n",
       "      <td>directorNA</td>\n",
       "      <td>NaN</td>\n",
       "      <td>NaN</td>\n",
       "      <td>NaN</td>\n",
       "      <td>NaN</td>\n",
       "      <td>NaN</td>\n",
       "      <td>NaN</td>\n",
       "      <td>NaN</td>\n",
       "      <td>NaN</td>\n",
       "      <td>NaN</td>\n",
       "      <td>NaN</td>\n",
       "      <td>NaN</td>\n",
       "      <td>NaN</td>\n",
       "      <td>NaN</td>\n",
       "      <td>NaN</td>\n",
       "      <td>thriller</td>\n",
       "      <td>False</td>\n",
       "      <td>NaN</td>\n",
       "      <td>NaN</td>\n",
       "      <td>NaN</td>\n",
       "      <td>NaN</td>\n",
       "      <td>NaN</td>\n",
       "    </tr>\n",
       "    <tr>\n",
       "      <th>freq</th>\n",
       "      <td>18</td>\n",
       "      <td>NaN</td>\n",
       "      <td>382</td>\n",
       "      <td>NaN</td>\n",
       "      <td>NaN</td>\n",
       "      <td>NaN</td>\n",
       "      <td>NaN</td>\n",
       "      <td>NaN</td>\n",
       "      <td>NaN</td>\n",
       "      <td>NaN</td>\n",
       "      <td>NaN</td>\n",
       "      <td>NaN</td>\n",
       "      <td>NaN</td>\n",
       "      <td>NaN</td>\n",
       "      <td>NaN</td>\n",
       "      <td>NaN</td>\n",
       "      <td>NaN</td>\n",
       "      <td>12836</td>\n",
       "      <td>39998</td>\n",
       "      <td>NaN</td>\n",
       "      <td>NaN</td>\n",
       "      <td>NaN</td>\n",
       "      <td>NaN</td>\n",
       "      <td>NaN</td>\n",
       "    </tr>\n",
       "    <tr>\n",
       "      <th>mean</th>\n",
       "      <td>NaN</td>\n",
       "      <td>1993.910465</td>\n",
       "      <td>NaN</td>\n",
       "      <td>80.726548</td>\n",
       "      <td>6826.995702</td>\n",
       "      <td>1316.224424</td>\n",
       "      <td>2.972707</td>\n",
       "      <td>54.423484</td>\n",
       "      <td>111.778300</td>\n",
       "      <td>105.667125</td>\n",
       "      <td>293.829577</td>\n",
       "      <td>309.652281</td>\n",
       "      <td>720.899595</td>\n",
       "      <td>614.732420</td>\n",
       "      <td>820.867235</td>\n",
       "      <td>299.167150</td>\n",
       "      <td>403.334599</td>\n",
       "      <td>NaN</td>\n",
       "      <td>NaN</td>\n",
       "      <td>0.202984</td>\n",
       "      <td>0.276176</td>\n",
       "      <td>0.145609</td>\n",
       "      <td>0.320756</td>\n",
       "      <td>0.054475</td>\n",
       "    </tr>\n",
       "    <tr>\n",
       "      <th>std</th>\n",
       "      <td>NaN</td>\n",
       "      <td>50.558016</td>\n",
       "      <td>NaN</td>\n",
       "      <td>42.044645</td>\n",
       "      <td>34009.245241</td>\n",
       "      <td>9260.254979</td>\n",
       "      <td>0.473895</td>\n",
       "      <td>329.131089</td>\n",
       "      <td>570.423667</td>\n",
       "      <td>474.780097</td>\n",
       "      <td>1275.813010</td>\n",
       "      <td>1253.326690</td>\n",
       "      <td>3208.731177</td>\n",
       "      <td>2979.839044</td>\n",
       "      <td>5347.700701</td>\n",
       "      <td>2518.510737</td>\n",
       "      <td>4304.396370</td>\n",
       "      <td>NaN</td>\n",
       "      <td>NaN</td>\n",
       "      <td>0.402225</td>\n",
       "      <td>0.447110</td>\n",
       "      <td>0.352719</td>\n",
       "      <td>0.466773</td>\n",
       "      <td>0.226956</td>\n",
       "    </tr>\n",
       "    <tr>\n",
       "      <th>min</th>\n",
       "      <td>NaN</td>\n",
       "      <td>0.000000</td>\n",
       "      <td>NaN</td>\n",
       "      <td>1.000000</td>\n",
       "      <td>33.000000</td>\n",
       "      <td>0.000000</td>\n",
       "      <td>0.900000</td>\n",
       "      <td>0.000000</td>\n",
       "      <td>0.000000</td>\n",
       "      <td>0.000000</td>\n",
       "      <td>0.000000</td>\n",
       "      <td>0.000000</td>\n",
       "      <td>0.000000</td>\n",
       "      <td>0.000000</td>\n",
       "      <td>0.000000</td>\n",
       "      <td>0.000000</td>\n",
       "      <td>0.000000</td>\n",
       "      <td>NaN</td>\n",
       "      <td>NaN</td>\n",
       "      <td>0.000000</td>\n",
       "      <td>0.000000</td>\n",
       "      <td>0.000000</td>\n",
       "      <td>0.000000</td>\n",
       "      <td>0.000000</td>\n",
       "    </tr>\n",
       "    <tr>\n",
       "      <th>25%</th>\n",
       "      <td>NaN</td>\n",
       "      <td>1982.000000</td>\n",
       "      <td>NaN</td>\n",
       "      <td>73.000000</td>\n",
       "      <td>109.250000</td>\n",
       "      <td>11.000000</td>\n",
       "      <td>2.700000</td>\n",
       "      <td>1.000000</td>\n",
       "      <td>2.000000</td>\n",
       "      <td>3.000000</td>\n",
       "      <td>8.000000</td>\n",
       "      <td>8.000000</td>\n",
       "      <td>13.000000</td>\n",
       "      <td>7.000000</td>\n",
       "      <td>4.000000</td>\n",
       "      <td>1.000000</td>\n",
       "      <td>1.000000</td>\n",
       "      <td>NaN</td>\n",
       "      <td>NaN</td>\n",
       "      <td>0.000000</td>\n",
       "      <td>0.000000</td>\n",
       "      <td>0.000000</td>\n",
       "      <td>0.000000</td>\n",
       "      <td>0.000000</td>\n",
       "    </tr>\n",
       "    <tr>\n",
       "      <th>50%</th>\n",
       "      <td>NaN</td>\n",
       "      <td>2004.000000</td>\n",
       "      <td>NaN</td>\n",
       "      <td>90.000000</td>\n",
       "      <td>288.000000</td>\n",
       "      <td>34.000000</td>\n",
       "      <td>3.000000</td>\n",
       "      <td>4.000000</td>\n",
       "      <td>8.000000</td>\n",
       "      <td>9.000000</td>\n",
       "      <td>20.000000</td>\n",
       "      <td>21.000000</td>\n",
       "      <td>36.000000</td>\n",
       "      <td>22.000000</td>\n",
       "      <td>15.000000</td>\n",
       "      <td>3.000000</td>\n",
       "      <td>4.000000</td>\n",
       "      <td>NaN</td>\n",
       "      <td>NaN</td>\n",
       "      <td>0.000000</td>\n",
       "      <td>0.000000</td>\n",
       "      <td>0.000000</td>\n",
       "      <td>0.000000</td>\n",
       "      <td>0.000000</td>\n",
       "    </tr>\n",
       "    <tr>\n",
       "      <th>75%</th>\n",
       "      <td>NaN</td>\n",
       "      <td>2014.000000</td>\n",
       "      <td>NaN</td>\n",
       "      <td>100.000000</td>\n",
       "      <td>1271.000000</td>\n",
       "      <td>165.000000</td>\n",
       "      <td>3.300000</td>\n",
       "      <td>16.000000</td>\n",
       "      <td>31.000000</td>\n",
       "      <td>33.000000</td>\n",
       "      <td>82.000000</td>\n",
       "      <td>90.000000</td>\n",
       "      <td>172.000000</td>\n",
       "      <td>113.000000</td>\n",
       "      <td>87.000000</td>\n",
       "      <td>18.000000</td>\n",
       "      <td>22.000000</td>\n",
       "      <td>NaN</td>\n",
       "      <td>NaN</td>\n",
       "      <td>0.000000</td>\n",
       "      <td>1.000000</td>\n",
       "      <td>0.000000</td>\n",
       "      <td>1.000000</td>\n",
       "      <td>0.000000</td>\n",
       "    </tr>\n",
       "    <tr>\n",
       "      <th>max</th>\n",
       "      <td>NaN</td>\n",
       "      <td>2021.000000</td>\n",
       "      <td>NaN</td>\n",
       "      <td>897.000000</td>\n",
       "      <td>719791.000000</td>\n",
       "      <td>286934.000000</td>\n",
       "      <td>4.600000</td>\n",
       "      <td>26627.000000</td>\n",
       "      <td>41716.000000</td>\n",
       "      <td>25062.000000</td>\n",
       "      <td>49076.000000</td>\n",
       "      <td>32039.000000</td>\n",
       "      <td>71584.000000</td>\n",
       "      <td>63621.000000</td>\n",
       "      <td>136870.000000</td>\n",
       "      <td>90025.000000</td>\n",
       "      <td>243931.000000</td>\n",
       "      <td>NaN</td>\n",
       "      <td>NaN</td>\n",
       "      <td>1.000000</td>\n",
       "      <td>1.000000</td>\n",
       "      <td>1.000000</td>\n",
       "      <td>1.000000</td>\n",
       "      <td>1.000000</td>\n",
       "    </tr>\n",
       "  </tbody>\n",
       "</table>\n",
       "</div>"
      ],
      "text/plain": [
       "               title          year    director  running_time          views  \\\n",
       "count          40018  40018.000000       40018  40018.000000   40018.000000   \n",
       "unique         30378           NaN       16293           NaN            NaN   \n",
       "top     Frankenstein           NaN  directorNA           NaN            NaN   \n",
       "freq              18           NaN         382           NaN            NaN   \n",
       "mean             NaN   1993.910465         NaN     80.726548    6826.995702   \n",
       "std              NaN     50.558016         NaN     42.044645   34009.245241   \n",
       "min              NaN      0.000000         NaN      1.000000      33.000000   \n",
       "25%              NaN   1982.000000         NaN     73.000000     109.250000   \n",
       "50%              NaN   2004.000000         NaN     90.000000     288.000000   \n",
       "75%              NaN   2014.000000         NaN    100.000000    1271.000000   \n",
       "max              NaN   2021.000000         NaN    897.000000  719791.000000   \n",
       "\n",
       "                likes    avg_rating     half_star      one_star  \\\n",
       "count    40018.000000  40018.000000  40018.000000  40018.000000   \n",
       "unique            NaN           NaN           NaN           NaN   \n",
       "top               NaN           NaN           NaN           NaN   \n",
       "freq              NaN           NaN           NaN           NaN   \n",
       "mean      1316.224424      2.972707     54.423484    111.778300   \n",
       "std       9260.254979      0.473895    329.131089    570.423667   \n",
       "min          0.000000      0.900000      0.000000      0.000000   \n",
       "25%         11.000000      2.700000      1.000000      2.000000   \n",
       "50%         34.000000      3.000000      4.000000      8.000000   \n",
       "75%        165.000000      3.300000     16.000000     31.000000   \n",
       "max     286934.000000      4.600000  26627.000000  41716.000000   \n",
       "\n",
       "        one_half_star      two_star  two_half_star    three_star  \\\n",
       "count    40018.000000  40018.000000   40018.000000  40018.000000   \n",
       "unique            NaN           NaN            NaN           NaN   \n",
       "top               NaN           NaN            NaN           NaN   \n",
       "freq              NaN           NaN            NaN           NaN   \n",
       "mean       105.667125    293.829577     309.652281    720.899595   \n",
       "std        474.780097   1275.813010    1253.326690   3208.731177   \n",
       "min          0.000000      0.000000       0.000000      0.000000   \n",
       "25%          3.000000      8.000000       8.000000     13.000000   \n",
       "50%          9.000000     20.000000      21.000000     36.000000   \n",
       "75%         33.000000     82.000000      90.000000    172.000000   \n",
       "max      25062.000000  49076.000000   32039.000000  71584.000000   \n",
       "\n",
       "        three_half_star      four_star  four_half_star      five_star  \\\n",
       "count      40018.000000   40018.000000    40018.000000   40018.000000   \n",
       "unique              NaN            NaN             NaN            NaN   \n",
       "top                 NaN            NaN             NaN            NaN   \n",
       "freq                NaN            NaN             NaN            NaN   \n",
       "mean         614.732420     820.867235      299.167150     403.334599   \n",
       "std         2979.839044    5347.700701     2518.510737    4304.396370   \n",
       "min            0.000000       0.000000        0.000000       0.000000   \n",
       "25%            7.000000       4.000000        1.000000       1.000000   \n",
       "50%           22.000000      15.000000        3.000000       4.000000   \n",
       "75%          113.000000      87.000000       18.000000      22.000000   \n",
       "max        63621.000000  136870.000000    90025.000000  243931.000000   \n",
       "\n",
       "           genre year_isna     animation        horror         scifi  \\\n",
       "count      40018     40018  40018.000000  40018.000000  40018.000000   \n",
       "unique         5         2           NaN           NaN           NaN   \n",
       "top     thriller     False           NaN           NaN           NaN   \n",
       "freq       12836     39998           NaN           NaN           NaN   \n",
       "mean         NaN       NaN      0.202984      0.276176      0.145609   \n",
       "std          NaN       NaN      0.402225      0.447110      0.352719   \n",
       "min          NaN       NaN      0.000000      0.000000      0.000000   \n",
       "25%          NaN       NaN      0.000000      0.000000      0.000000   \n",
       "50%          NaN       NaN      0.000000      0.000000      0.000000   \n",
       "75%          NaN       NaN      0.000000      1.000000      0.000000   \n",
       "max          NaN       NaN      1.000000      1.000000      1.000000   \n",
       "\n",
       "            thriller           war  \n",
       "count   40018.000000  40018.000000  \n",
       "unique           NaN           NaN  \n",
       "top              NaN           NaN  \n",
       "freq             NaN           NaN  \n",
       "mean        0.320756      0.054475  \n",
       "std         0.466773      0.226956  \n",
       "min         0.000000      0.000000  \n",
       "25%         0.000000      0.000000  \n",
       "50%         0.000000      0.000000  \n",
       "75%         1.000000      0.000000  \n",
       "max         1.000000      1.000000  "
      ]
     },
     "execution_count": 78,
     "metadata": {},
     "output_type": "execute_result"
    }
   ],
   "source": [
    "df.describe(include='all')"
   ]
  },
  {
   "cell_type": "code",
   "execution_count": 73,
   "metadata": {},
   "outputs": [],
   "source": [
    "# genre feature model training"
   ]
  },
  {
   "cell_type": "code",
   "execution_count": 88,
   "metadata": {},
   "outputs": [],
   "source": [
    "model = LinearRegression()"
   ]
  },
  {
   "cell_type": "code",
   "execution_count": 89,
   "metadata": {},
   "outputs": [],
   "source": [
    "X = df['likes']"
   ]
  },
  {
   "cell_type": "code",
   "execution_count": 90,
   "metadata": {},
   "outputs": [],
   "source": [
    "y = df['avg_rating']"
   ]
  },
  {
   "cell_type": "code",
   "execution_count": 93,
   "metadata": {},
   "outputs": [],
   "source": [
    "X_train_true, X_test_true, y_train_true, y_test_true = train_test_split(X, y, test_size = 0.3, random_state=42)"
   ]
  },
  {
   "cell_type": "code",
   "execution_count": 97,
   "metadata": {},
   "outputs": [],
   "source": [
    "X_train_true = X_train_true.values.reshape(-1,1)\n",
    "y_train_true = y_train_true.values.reshape(-1,1)"
   ]
  },
  {
   "cell_type": "code",
   "execution_count": 98,
   "metadata": {},
   "outputs": [
    {
     "data": {
      "text/plain": [
       "LinearRegression()"
      ]
     },
     "execution_count": 98,
     "metadata": {},
     "output_type": "execute_result"
    }
   ],
   "source": [
    "model.fit(X_train_true, y_train_true)"
   ]
  },
  {
   "cell_type": "code",
   "execution_count": 100,
   "metadata": {},
   "outputs": [],
   "source": [
    "X_test_true = X_test_true.values.reshape(-1,1)"
   ]
  },
  {
   "cell_type": "code",
   "execution_count": 101,
   "metadata": {},
   "outputs": [],
   "source": [
    "y_test_pred = model.predict(X_test_true)"
   ]
  },
  {
   "cell_type": "code",
   "execution_count": 80,
   "metadata": {},
   "outputs": [
    {
     "data": {
      "text/plain": [
       "0.1145999775841765"
      ]
     },
     "execution_count": 80,
     "metadata": {},
     "output_type": "execute_result"
    }
   ],
   "source": [
    "model.score(X_test_true, y_test_true)"
   ]
  },
  {
   "cell_type": "code",
   "execution_count": 102,
   "metadata": {
    "scrolled": true
   },
   "outputs": [
    {
     "data": {
      "text/plain": [
       "array([[9.99113996e-06]])"
      ]
     },
     "execution_count": 102,
     "metadata": {},
     "output_type": "execute_result"
    }
   ],
   "source": [
    "# predictive power for this feature\n",
    "model.coef_"
   ]
  },
  {
   "cell_type": "code",
   "execution_count": 107,
   "metadata": {},
   "outputs": [],
   "source": [
    "# pd.Series(y_test_pred).unique()"
   ]
  },
  {
   "cell_type": "code",
   "execution_count": 104,
   "metadata": {
    "scrolled": true
   },
   "outputs": [
    {
     "data": {
      "text/plain": [
       "0.4675207942245636"
      ]
     },
     "execution_count": 104,
     "metadata": {},
     "output_type": "execute_result"
    }
   ],
   "source": [
    "rmse = np.sqrt(mean_squared_error(y_test_true, y_test_pred))\n",
    "rmse"
   ]
  },
  {
   "cell_type": "code",
   "execution_count": 86,
   "metadata": {},
   "outputs": [
    {
     "data": {
      "text/plain": [
       "6070     0.439453\n",
       "5811    -0.160547\n",
       "2299     0.312469\n",
       "8671    -0.087531\n",
       "12409   -0.760547\n",
       "           ...   \n",
       "5468    -0.378473\n",
       "6280     0.212469\n",
       "5953    -0.587531\n",
       "5795    -0.099945\n",
       "8192    -0.060547\n",
       "Name: avg_rating, Length: 12006, dtype: float64"
      ]
     },
     "execution_count": 86,
     "metadata": {},
     "output_type": "execute_result"
    }
   ],
   "source": [
    "y_error = y_test_pred - y_test_true\n",
    "y_error"
   ]
  },
  {
   "cell_type": "code",
   "execution_count": 87,
   "metadata": {},
   "outputs": [
    {
     "data": {
      "text/plain": [
       "0.44871736426958847"
      ]
     },
     "execution_count": 87,
     "metadata": {},
     "output_type": "execute_result"
    }
   ],
   "source": [
    "standard_error = ((y_error**2).mean())**0.5\n",
    "standard_error"
   ]
  },
  {
   "cell_type": "code",
   "execution_count": 106,
   "metadata": {},
   "outputs": [
    {
     "data": {
      "image/png": "[encoded data removed]",
      "text/plain": [
       "<Figure size 432x288 with 1 Axes>"
      ]
     },
     "metadata": {
      "needs_background": "light"
     },
     "output_type": "display_data"
    }
   ],
   "source": [
    "plt.plot(X_test_true, y_test_pred, color='red',linewidth=3)\n",
    "plt.show()"
   ]
  },
  {
   "cell_type": "code",
   "execution_count": 108,
   "metadata": {},
   "outputs": [],
   "source": [
    "#likes and views"
   ]
  },
  {
   "cell_type": "code",
   "execution_count": 115,
   "metadata": {},
   "outputs": [],
   "source": [
    "X = np.asarray(df[['views', 'likes']])"
   ]
  },
  {
   "cell_type": "code",
   "execution_count": 116,
   "metadata": {},
   "outputs": [],
   "source": [
    "y = np.asarray(df['avg_rating'])"
   ]
  },
  {
   "cell_type": "code",
   "execution_count": 117,
   "metadata": {},
   "outputs": [],
   "source": [
    "X_train_true, X_test_true, y_train_true, y_test_true = train_test_split(X, y, test_size = 0.3, random_state=42)"
   ]
  },
  {
   "cell_type": "code",
   "execution_count": 118,
   "metadata": {},
   "outputs": [
    {
     "data": {
      "text/plain": [
       "LinearRegression()"
      ]
     },
     "execution_count": 118,
     "metadata": {},
     "output_type": "execute_result"
    }
   ],
   "source": [
    "model.fit(X_train_true, y_train_true)"
   ]
  },
  {
   "cell_type": "code",
   "execution_count": 119,
   "metadata": {},
   "outputs": [
    {
     "data": {
      "text/plain": [
       "0.041397519544677075"
      ]
     },
     "execution_count": 119,
     "metadata": {},
     "output_type": "execute_result"
    }
   ],
   "source": [
    "model.score(X_test_true, y_test_true)"
   ]
  },
  {
   "cell_type": "code",
   "execution_count": 120,
   "metadata": {},
   "outputs": [],
   "source": [
    "y_test_pred = model.predict(X_test_true)"
   ]
  },
  {
   "cell_type": "code",
   "execution_count": 121,
   "metadata": {},
   "outputs": [
    {
     "data": {
      "text/plain": [
       "0.4668984002461756"
      ]
     },
     "execution_count": 121,
     "metadata": {},
     "output_type": "execute_result"
    }
   ],
   "source": [
    "rmse = np.sqrt(mean_squared_error(y_test_true, y_test_pred))\n",
    "rmse"
   ]
  },
  {
   "cell_type": "code",
   "execution_count": null,
   "metadata": {},
   "outputs": [],
   "source": [
    "#likes, views and running time"
   ]
  },
  {
   "cell_type": "code",
   "execution_count": 122,
   "metadata": {},
   "outputs": [],
   "source": [
    "X = np.asarray(df[['views', 'likes', 'running_time' ]])"
   ]
  },
  {
   "cell_type": "code",
   "execution_count": 123,
   "metadata": {},
   "outputs": [],
   "source": [
    "X_train_true, X_test_true, y_train_true, y_test_true = train_test_split(X, y, test_size = 0.3, random_state=42)"
   ]
  },
  {
   "cell_type": "code",
   "execution_count": 124,
   "metadata": {},
   "outputs": [
    {
     "data": {
      "text/plain": [
       "LinearRegression()"
      ]
     },
     "execution_count": 124,
     "metadata": {},
     "output_type": "execute_result"
    }
   ],
   "source": [
    "model.fit(X_train_true, y_train_true)"
   ]
  },
  {
   "cell_type": "code",
   "execution_count": 125,
   "metadata": {},
   "outputs": [
    {
     "data": {
      "text/plain": [
       "0.059547456008833155"
      ]
     },
     "execution_count": 125,
     "metadata": {},
     "output_type": "execute_result"
    }
   ],
   "source": [
    "model.score(X_test_true, y_test_true)"
   ]
  },
  {
   "cell_type": "code",
   "execution_count": 126,
   "metadata": {},
   "outputs": [],
   "source": [
    "y_test_pred = model.predict(X_test_true)"
   ]
  },
  {
   "cell_type": "code",
   "execution_count": 127,
   "metadata": {},
   "outputs": [
    {
     "data": {
      "text/plain": [
       "0.4624572096906384"
      ]
     },
     "execution_count": 127,
     "metadata": {},
     "output_type": "execute_result"
    }
   ],
   "source": [
    "rmse = np.sqrt(mean_squared_error(y_test_true, y_test_pred))\n",
    "rmse"
   ]
  },
  {
   "cell_type": "code",
   "execution_count": null,
   "metadata": {},
   "outputs": [],
   "source": [
    "# likes, views, "
   ]
  }
 ],
 "metadata": {
  "kernelspec": {
   "display_name": "Python 3",
   "language": "python",
   "name": "python3"
  },
  "language_info": {
   "codemirror_mode": {
    "name": "ipython",
    "version": 3
   },
   "file_extension": ".py",
   "mimetype": "text/x-python",
   "name": "python",
   "nbconvert_exporter": "python",
   "pygments_lexer": "ipython3",
   "version": "3.8.5"
  }
 },
 "nbformat": 4,
 "nbformat_minor": 2
}

{
 "cells": [
  {
   "cell_type": "code",
   "execution_count": 1,
   "metadata": {},
   "outputs": [],
   "source": [
    "# genre feature training"
   ]
  },
  {
   "cell_type": "code",
   "execution_count": 34,
   "metadata": {
    "scrolled": false
   },
   "outputs": [],
   "source": [
    "import pandas as pd\n",
    "import matplotlib.pyplot as plt\n",
    "import seaborn as sns\n",
    "from sklearn.linear_model import LinearRegression \n",
    "from sklearn.metrics import mean_squared_error\n",
    "from sklearn.model_selection import train_test_split\n",
    "from sklearn.model_selection import cross_val_score\n",
    "import numpy as np\n",
    "import scipy.stats as stats\n",
    "pd.options.display.max_columns = 10000"
   ]
  },
  {
   "cell_type": "code",
   "execution_count": 10,
   "metadata": {},
   "outputs": [],
   "source": [
    "df_genres = pd.read_csv('df_genres.csv')"
   ]
  },
  {
   "cell_type": "code",
   "execution_count": 11,
   "metadata": {
    "scrolled": true
   },
   "outputs": [
    {
     "data": {
      "text/html": [
       "<div>\n",
       "<style scoped>\n",
       "    .dataframe tbody tr th:only-of-type {\n",
       "        vertical-align: middle;\n",
       "    }\n",
       "\n",
       "    .dataframe tbody tr th {\n",
       "        vertical-align: top;\n",
       "    }\n",
       "\n",
       "    .dataframe thead th {\n",
       "        text-align: right;\n",
       "    }\n",
       "</style>\n",
       "<table border=\"1\" class=\"dataframe\">\n",
       "  <thead>\n",
       "    <tr style=\"text-align: right;\">\n",
       "      <th></th>\n",
       "      <th>Unnamed: 0</th>\n",
       "      <th>title</th>\n",
       "      <th>year</th>\n",
       "      <th>director</th>\n",
       "      <th>running_time</th>\n",
       "      <th>views</th>\n",
       "      <th>likes</th>\n",
       "      <th>avg_rating</th>\n",
       "      <th>half_star</th>\n",
       "      <th>one_star</th>\n",
       "      <th>one_half_star</th>\n",
       "      <th>two_star</th>\n",
       "      <th>two_half_star</th>\n",
       "      <th>three_star</th>\n",
       "      <th>three_half_star</th>\n",
       "      <th>four_star</th>\n",
       "      <th>four_half_star</th>\n",
       "      <th>five_star</th>\n",
       "      <th>genre</th>\n",
       "    </tr>\n",
       "  </thead>\n",
       "  <tbody>\n",
       "    <tr>\n",
       "      <th>0</th>\n",
       "      <td>0</td>\n",
       "      <td>Get Out</td>\n",
       "      <td>2017.0</td>\n",
       "      <td>Jordan Peele</td>\n",
       "      <td>104</td>\n",
       "      <td>605132</td>\n",
       "      <td>261668</td>\n",
       "      <td>4.1</td>\n",
       "      <td>647</td>\n",
       "      <td>1560</td>\n",
       "      <td>1001</td>\n",
       "      <td>5727</td>\n",
       "      <td>5821</td>\n",
       "      <td>34069</td>\n",
       "      <td>45053</td>\n",
       "      <td>136842</td>\n",
       "      <td>65726</td>\n",
       "      <td>110264</td>\n",
       "      <td>horror</td>\n",
       "    </tr>\n",
       "    <tr>\n",
       "      <th>1</th>\n",
       "      <td>1</td>\n",
       "      <td>Zombieland</td>\n",
       "      <td>2009.0</td>\n",
       "      <td>Ruben Fleischer</td>\n",
       "      <td>88</td>\n",
       "      <td>339357</td>\n",
       "      <td>77110</td>\n",
       "      <td>3.6</td>\n",
       "      <td>477</td>\n",
       "      <td>1384</td>\n",
       "      <td>1353</td>\n",
       "      <td>6280</td>\n",
       "      <td>9055</td>\n",
       "      <td>37228</td>\n",
       "      <td>43168</td>\n",
       "      <td>53117</td>\n",
       "      <td>10931</td>\n",
       "      <td>11907</td>\n",
       "      <td>horror</td>\n",
       "    </tr>\n",
       "    <tr>\n",
       "      <th>2</th>\n",
       "      <td>2</td>\n",
       "      <td>Suspiria</td>\n",
       "      <td>2018.0</td>\n",
       "      <td>Luca Guadagnino</td>\n",
       "      <td>152</td>\n",
       "      <td>122728</td>\n",
       "      <td>37820</td>\n",
       "      <td>3.7</td>\n",
       "      <td>611</td>\n",
       "      <td>1253</td>\n",
       "      <td>1266</td>\n",
       "      <td>4151</td>\n",
       "      <td>4844</td>\n",
       "      <td>12282</td>\n",
       "      <td>15033</td>\n",
       "      <td>25865</td>\n",
       "      <td>13732</td>\n",
       "      <td>12889</td>\n",
       "      <td>horror</td>\n",
       "    </tr>\n",
       "    <tr>\n",
       "      <th>3</th>\n",
       "      <td>3</td>\n",
       "      <td>Halloween</td>\n",
       "      <td>1978.0</td>\n",
       "      <td>John Carpenter</td>\n",
       "      <td>91</td>\n",
       "      <td>212751</td>\n",
       "      <td>59124</td>\n",
       "      <td>4.0</td>\n",
       "      <td>204</td>\n",
       "      <td>700</td>\n",
       "      <td>602</td>\n",
       "      <td>3003</td>\n",
       "      <td>3627</td>\n",
       "      <td>15715</td>\n",
       "      <td>17598</td>\n",
       "      <td>35627</td>\n",
       "      <td>14882</td>\n",
       "      <td>29077</td>\n",
       "      <td>horror</td>\n",
       "    </tr>\n",
       "    <tr>\n",
       "      <th>4</th>\n",
       "      <td>4</td>\n",
       "      <td>Rosemary's Baby</td>\n",
       "      <td>1968.0</td>\n",
       "      <td>Roman Polanski</td>\n",
       "      <td>137</td>\n",
       "      <td>158689</td>\n",
       "      <td>46272</td>\n",
       "      <td>4.2</td>\n",
       "      <td>156</td>\n",
       "      <td>372</td>\n",
       "      <td>253</td>\n",
       "      <td>1326</td>\n",
       "      <td>1412</td>\n",
       "      <td>6933</td>\n",
       "      <td>9562</td>\n",
       "      <td>27455</td>\n",
       "      <td>18616</td>\n",
       "      <td>24435</td>\n",
       "      <td>horror</td>\n",
       "    </tr>\n",
       "  </tbody>\n",
       "</table>\n",
       "</div>"
      ],
      "text/plain": [
       "   Unnamed: 0            title    year         director  running_time   views  \\\n",
       "0           0          Get Out  2017.0     Jordan Peele           104  605132   \n",
       "1           1       Zombieland  2009.0  Ruben Fleischer            88  339357   \n",
       "2           2         Suspiria  2018.0  Luca Guadagnino           152  122728   \n",
       "3           3        Halloween  1978.0   John Carpenter            91  212751   \n",
       "4           4  Rosemary's Baby  1968.0   Roman Polanski           137  158689   \n",
       "\n",
       "    likes  avg_rating  half_star  one_star  one_half_star  two_star  \\\n",
       "0  261668         4.1        647      1560           1001      5727   \n",
       "1   77110         3.6        477      1384           1353      6280   \n",
       "2   37820         3.7        611      1253           1266      4151   \n",
       "3   59124         4.0        204       700            602      3003   \n",
       "4   46272         4.2        156       372            253      1326   \n",
       "\n",
       "   two_half_star  three_star  three_half_star  four_star  four_half_star  \\\n",
       "0           5821       34069            45053     136842           65726   \n",
       "1           9055       37228            43168      53117           10931   \n",
       "2           4844       12282            15033      25865           13732   \n",
       "3           3627       15715            17598      35627           14882   \n",
       "4           1412        6933             9562      27455           18616   \n",
       "\n",
       "   five_star   genre  \n",
       "0     110264  horror  \n",
       "1      11907  horror  \n",
       "2      12889  horror  \n",
       "3      29077  horror  \n",
       "4      24435  horror  "
      ]
     },
     "execution_count": 11,
     "metadata": {},
     "output_type": "execute_result"
    }
   ],
   "source": [
    "df_genres.head()"
   ]
  },
  {
   "cell_type": "code",
   "execution_count": 12,
   "metadata": {},
   "outputs": [
    {
     "data": {
      "text/html": [
       "<div>\n",
       "<style scoped>\n",
       "    .dataframe tbody tr th:only-of-type {\n",
       "        vertical-align: middle;\n",
       "    }\n",
       "\n",
       "    .dataframe tbody tr th {\n",
       "        vertical-align: top;\n",
       "    }\n",
       "\n",
       "    .dataframe thead th {\n",
       "        text-align: right;\n",
       "    }\n",
       "</style>\n",
       "<table border=\"1\" class=\"dataframe\">\n",
       "  <thead>\n",
       "    <tr style=\"text-align: right;\">\n",
       "      <th></th>\n",
       "      <th>Unnamed: 0</th>\n",
       "      <th>title</th>\n",
       "      <th>year</th>\n",
       "      <th>director</th>\n",
       "      <th>running_time</th>\n",
       "      <th>views</th>\n",
       "      <th>likes</th>\n",
       "      <th>avg_rating</th>\n",
       "      <th>half_star</th>\n",
       "      <th>one_star</th>\n",
       "      <th>one_half_star</th>\n",
       "      <th>two_star</th>\n",
       "      <th>two_half_star</th>\n",
       "      <th>three_star</th>\n",
       "      <th>three_half_star</th>\n",
       "      <th>four_star</th>\n",
       "      <th>four_half_star</th>\n",
       "      <th>five_star</th>\n",
       "      <th>genre</th>\n",
       "    </tr>\n",
       "  </thead>\n",
       "  <tbody>\n",
       "    <tr>\n",
       "      <th>count</th>\n",
       "      <td>40018.000000</td>\n",
       "      <td>40018</td>\n",
       "      <td>39998.00000</td>\n",
       "      <td>39636</td>\n",
       "      <td>40018.000000</td>\n",
       "      <td>40018.000000</td>\n",
       "      <td>40018.000000</td>\n",
       "      <td>40018.000000</td>\n",
       "      <td>40018.000000</td>\n",
       "      <td>40018.000000</td>\n",
       "      <td>40018.000000</td>\n",
       "      <td>40018.000000</td>\n",
       "      <td>40018.000000</td>\n",
       "      <td>40018.000000</td>\n",
       "      <td>40018.000000</td>\n",
       "      <td>40018.000000</td>\n",
       "      <td>40018.000000</td>\n",
       "      <td>40018.000000</td>\n",
       "      <td>40018</td>\n",
       "    </tr>\n",
       "    <tr>\n",
       "      <th>unique</th>\n",
       "      <td>NaN</td>\n",
       "      <td>30378</td>\n",
       "      <td>NaN</td>\n",
       "      <td>16292</td>\n",
       "      <td>NaN</td>\n",
       "      <td>NaN</td>\n",
       "      <td>NaN</td>\n",
       "      <td>NaN</td>\n",
       "      <td>NaN</td>\n",
       "      <td>NaN</td>\n",
       "      <td>NaN</td>\n",
       "      <td>NaN</td>\n",
       "      <td>NaN</td>\n",
       "      <td>NaN</td>\n",
       "      <td>NaN</td>\n",
       "      <td>NaN</td>\n",
       "      <td>NaN</td>\n",
       "      <td>NaN</td>\n",
       "      <td>5</td>\n",
       "    </tr>\n",
       "    <tr>\n",
       "      <th>top</th>\n",
       "      <td>NaN</td>\n",
       "      <td>Frankenstein</td>\n",
       "      <td>NaN</td>\n",
       "      <td>Chuck Jones</td>\n",
       "      <td>NaN</td>\n",
       "      <td>NaN</td>\n",
       "      <td>NaN</td>\n",
       "      <td>NaN</td>\n",
       "      <td>NaN</td>\n",
       "      <td>NaN</td>\n",
       "      <td>NaN</td>\n",
       "      <td>NaN</td>\n",
       "      <td>NaN</td>\n",
       "      <td>NaN</td>\n",
       "      <td>NaN</td>\n",
       "      <td>NaN</td>\n",
       "      <td>NaN</td>\n",
       "      <td>NaN</td>\n",
       "      <td>thriller</td>\n",
       "    </tr>\n",
       "    <tr>\n",
       "      <th>freq</th>\n",
       "      <td>NaN</td>\n",
       "      <td>18</td>\n",
       "      <td>NaN</td>\n",
       "      <td>221</td>\n",
       "      <td>NaN</td>\n",
       "      <td>NaN</td>\n",
       "      <td>NaN</td>\n",
       "      <td>NaN</td>\n",
       "      <td>NaN</td>\n",
       "      <td>NaN</td>\n",
       "      <td>NaN</td>\n",
       "      <td>NaN</td>\n",
       "      <td>NaN</td>\n",
       "      <td>NaN</td>\n",
       "      <td>NaN</td>\n",
       "      <td>NaN</td>\n",
       "      <td>NaN</td>\n",
       "      <td>NaN</td>\n",
       "      <td>12836</td>\n",
       "    </tr>\n",
       "    <tr>\n",
       "      <th>mean</th>\n",
       "      <td>4892.286471</td>\n",
       "      <td>NaN</td>\n",
       "      <td>1994.90747</td>\n",
       "      <td>NaN</td>\n",
       "      <td>80.726548</td>\n",
       "      <td>6826.995702</td>\n",
       "      <td>1316.224424</td>\n",
       "      <td>2.972707</td>\n",
       "      <td>54.423484</td>\n",
       "      <td>111.778300</td>\n",
       "      <td>105.667125</td>\n",
       "      <td>293.829577</td>\n",
       "      <td>309.652281</td>\n",
       "      <td>720.899595</td>\n",
       "      <td>614.732420</td>\n",
       "      <td>820.867235</td>\n",
       "      <td>299.167150</td>\n",
       "      <td>403.334599</td>\n",
       "      <td>NaN</td>\n",
       "    </tr>\n",
       "    <tr>\n",
       "      <th>std</th>\n",
       "      <td>3334.753389</td>\n",
       "      <td>NaN</td>\n",
       "      <td>23.84132</td>\n",
       "      <td>NaN</td>\n",
       "      <td>42.044645</td>\n",
       "      <td>34009.245241</td>\n",
       "      <td>9260.254979</td>\n",
       "      <td>0.473895</td>\n",
       "      <td>329.131089</td>\n",
       "      <td>570.423667</td>\n",
       "      <td>474.780097</td>\n",
       "      <td>1275.813010</td>\n",
       "      <td>1253.326690</td>\n",
       "      <td>3208.731177</td>\n",
       "      <td>2979.839044</td>\n",
       "      <td>5347.700701</td>\n",
       "      <td>2518.510737</td>\n",
       "      <td>4304.396370</td>\n",
       "      <td>NaN</td>\n",
       "    </tr>\n",
       "    <tr>\n",
       "      <th>min</th>\n",
       "      <td>0.000000</td>\n",
       "      <td>NaN</td>\n",
       "      <td>1885.00000</td>\n",
       "      <td>NaN</td>\n",
       "      <td>1.000000</td>\n",
       "      <td>33.000000</td>\n",
       "      <td>0.000000</td>\n",
       "      <td>0.900000</td>\n",
       "      <td>0.000000</td>\n",
       "      <td>0.000000</td>\n",
       "      <td>0.000000</td>\n",
       "      <td>0.000000</td>\n",
       "      <td>0.000000</td>\n",
       "      <td>0.000000</td>\n",
       "      <td>0.000000</td>\n",
       "      <td>0.000000</td>\n",
       "      <td>0.000000</td>\n",
       "      <td>0.000000</td>\n",
       "      <td>NaN</td>\n",
       "    </tr>\n",
       "    <tr>\n",
       "      <th>25%</th>\n",
       "      <td>2000.250000</td>\n",
       "      <td>NaN</td>\n",
       "      <td>1982.00000</td>\n",
       "      <td>NaN</td>\n",
       "      <td>73.000000</td>\n",
       "      <td>109.250000</td>\n",
       "      <td>11.000000</td>\n",
       "      <td>2.700000</td>\n",
       "      <td>1.000000</td>\n",
       "      <td>2.000000</td>\n",
       "      <td>3.000000</td>\n",
       "      <td>8.000000</td>\n",
       "      <td>8.000000</td>\n",
       "      <td>13.000000</td>\n",
       "      <td>7.000000</td>\n",
       "      <td>4.000000</td>\n",
       "      <td>1.000000</td>\n",
       "      <td>1.000000</td>\n",
       "      <td>NaN</td>\n",
       "    </tr>\n",
       "    <tr>\n",
       "      <th>50%</th>\n",
       "      <td>4457.000000</td>\n",
       "      <td>NaN</td>\n",
       "      <td>2004.00000</td>\n",
       "      <td>NaN</td>\n",
       "      <td>90.000000</td>\n",
       "      <td>288.000000</td>\n",
       "      <td>34.000000</td>\n",
       "      <td>3.000000</td>\n",
       "      <td>4.000000</td>\n",
       "      <td>8.000000</td>\n",
       "      <td>9.000000</td>\n",
       "      <td>20.000000</td>\n",
       "      <td>21.000000</td>\n",
       "      <td>36.000000</td>\n",
       "      <td>22.000000</td>\n",
       "      <td>15.000000</td>\n",
       "      <td>3.000000</td>\n",
       "      <td>4.000000</td>\n",
       "      <td>NaN</td>\n",
       "    </tr>\n",
       "    <tr>\n",
       "      <th>75%</th>\n",
       "      <td>7335.000000</td>\n",
       "      <td>NaN</td>\n",
       "      <td>2014.00000</td>\n",
       "      <td>NaN</td>\n",
       "      <td>100.000000</td>\n",
       "      <td>1271.000000</td>\n",
       "      <td>165.000000</td>\n",
       "      <td>3.300000</td>\n",
       "      <td>16.000000</td>\n",
       "      <td>31.000000</td>\n",
       "      <td>33.000000</td>\n",
       "      <td>82.000000</td>\n",
       "      <td>90.000000</td>\n",
       "      <td>172.000000</td>\n",
       "      <td>113.000000</td>\n",
       "      <td>87.000000</td>\n",
       "      <td>18.000000</td>\n",
       "      <td>22.000000</td>\n",
       "      <td>NaN</td>\n",
       "    </tr>\n",
       "    <tr>\n",
       "      <th>max</th>\n",
       "      <td>12835.000000</td>\n",
       "      <td>NaN</td>\n",
       "      <td>2021.00000</td>\n",
       "      <td>NaN</td>\n",
       "      <td>897.000000</td>\n",
       "      <td>719791.000000</td>\n",
       "      <td>286934.000000</td>\n",
       "      <td>4.600000</td>\n",
       "      <td>26627.000000</td>\n",
       "      <td>41716.000000</td>\n",
       "      <td>25062.000000</td>\n",
       "      <td>49076.000000</td>\n",
       "      <td>32039.000000</td>\n",
       "      <td>71584.000000</td>\n",
       "      <td>63621.000000</td>\n",
       "      <td>136870.000000</td>\n",
       "      <td>90025.000000</td>\n",
       "      <td>243931.000000</td>\n",
       "      <td>NaN</td>\n",
       "    </tr>\n",
       "  </tbody>\n",
       "</table>\n",
       "</div>"
      ],
      "text/plain": [
       "          Unnamed: 0         title         year     director  running_time  \\\n",
       "count   40018.000000         40018  39998.00000        39636  40018.000000   \n",
       "unique           NaN         30378          NaN        16292           NaN   \n",
       "top              NaN  Frankenstein          NaN  Chuck Jones           NaN   \n",
       "freq             NaN            18          NaN          221           NaN   \n",
       "mean     4892.286471           NaN   1994.90747          NaN     80.726548   \n",
       "std      3334.753389           NaN     23.84132          NaN     42.044645   \n",
       "min         0.000000           NaN   1885.00000          NaN      1.000000   \n",
       "25%      2000.250000           NaN   1982.00000          NaN     73.000000   \n",
       "50%      4457.000000           NaN   2004.00000          NaN     90.000000   \n",
       "75%      7335.000000           NaN   2014.00000          NaN    100.000000   \n",
       "max     12835.000000           NaN   2021.00000          NaN    897.000000   \n",
       "\n",
       "                views          likes    avg_rating     half_star  \\\n",
       "count    40018.000000   40018.000000  40018.000000  40018.000000   \n",
       "unique            NaN            NaN           NaN           NaN   \n",
       "top               NaN            NaN           NaN           NaN   \n",
       "freq              NaN            NaN           NaN           NaN   \n",
       "mean      6826.995702    1316.224424      2.972707     54.423484   \n",
       "std      34009.245241    9260.254979      0.473895    329.131089   \n",
       "min         33.000000       0.000000      0.900000      0.000000   \n",
       "25%        109.250000      11.000000      2.700000      1.000000   \n",
       "50%        288.000000      34.000000      3.000000      4.000000   \n",
       "75%       1271.000000     165.000000      3.300000     16.000000   \n",
       "max     719791.000000  286934.000000      4.600000  26627.000000   \n",
       "\n",
       "            one_star  one_half_star      two_star  two_half_star  \\\n",
       "count   40018.000000   40018.000000  40018.000000   40018.000000   \n",
       "unique           NaN            NaN           NaN            NaN   \n",
       "top              NaN            NaN           NaN            NaN   \n",
       "freq             NaN            NaN           NaN            NaN   \n",
       "mean      111.778300     105.667125    293.829577     309.652281   \n",
       "std       570.423667     474.780097   1275.813010    1253.326690   \n",
       "min         0.000000       0.000000      0.000000       0.000000   \n",
       "25%         2.000000       3.000000      8.000000       8.000000   \n",
       "50%         8.000000       9.000000     20.000000      21.000000   \n",
       "75%        31.000000      33.000000     82.000000      90.000000   \n",
       "max     41716.000000   25062.000000  49076.000000   32039.000000   \n",
       "\n",
       "          three_star  three_half_star      four_star  four_half_star  \\\n",
       "count   40018.000000     40018.000000   40018.000000    40018.000000   \n",
       "unique           NaN              NaN            NaN             NaN   \n",
       "top              NaN              NaN            NaN             NaN   \n",
       "freq             NaN              NaN            NaN             NaN   \n",
       "mean      720.899595       614.732420     820.867235      299.167150   \n",
       "std      3208.731177      2979.839044    5347.700701     2518.510737   \n",
       "min         0.000000         0.000000       0.000000        0.000000   \n",
       "25%        13.000000         7.000000       4.000000        1.000000   \n",
       "50%        36.000000        22.000000      15.000000        3.000000   \n",
       "75%       172.000000       113.000000      87.000000       18.000000   \n",
       "max     71584.000000     63621.000000  136870.000000    90025.000000   \n",
       "\n",
       "            five_star     genre  \n",
       "count    40018.000000     40018  \n",
       "unique            NaN         5  \n",
       "top               NaN  thriller  \n",
       "freq              NaN     12836  \n",
       "mean       403.334599       NaN  \n",
       "std       4304.396370       NaN  \n",
       "min          0.000000       NaN  \n",
       "25%          1.000000       NaN  \n",
       "50%          4.000000       NaN  \n",
       "75%         22.000000       NaN  \n",
       "max     243931.000000       NaN  "
      ]
     },
     "execution_count": 12,
     "metadata": {},
     "output_type": "execute_result"
    }
   ],
   "source": [
    "df_genres.describe(include='all')"
   ]
  },
  {
   "cell_type": "code",
   "execution_count": 13,
   "metadata": {
    "scrolled": true
   },
   "outputs": [
    {
     "data": {
      "text/plain": [
       "Unnamed: 0           0\n",
       "title                0\n",
       "year                20\n",
       "director           382\n",
       "running_time         0\n",
       "views                0\n",
       "likes                0\n",
       "avg_rating           0\n",
       "half_star            0\n",
       "one_star             0\n",
       "one_half_star        0\n",
       "two_star             0\n",
       "two_half_star        0\n",
       "three_star           0\n",
       "three_half_star      0\n",
       "four_star            0\n",
       "four_half_star       0\n",
       "five_star            0\n",
       "genre                0\n",
       "dtype: int64"
      ]
     },
     "execution_count": 13,
     "metadata": {},
     "output_type": "execute_result"
    }
   ],
   "source": [
    "df_genres.isna().sum()"
   ]
  },
  {
   "cell_type": "code",
   "execution_count": 15,
   "metadata": {},
   "outputs": [
    {
     "ename": "ModuleNotFoundError",
     "evalue": "No module named 'missingno'",
     "output_type": "error",
     "traceback": [
      "\u001b[0;31m---------------------------------------------------------------------------\u001b[0m",
      "\u001b[0;31mModuleNotFoundError\u001b[0m                       Traceback (most recent call last)",
      "\u001b[0;32m<ipython-input-15-be0bbb03bb7b>\u001b[0m in \u001b[0;36m<module>\u001b[0;34m\u001b[0m\n\u001b[0;32m----> 1\u001b[0;31m \u001b[0;32mimport\u001b[0m \u001b[0mmissingno\u001b[0m \u001b[0;32mas\u001b[0m \u001b[0mmsno\u001b[0m\u001b[0;34m\u001b[0m\u001b[0;34m\u001b[0m\u001b[0m\n\u001b[0m\u001b[1;32m      2\u001b[0m \u001b[0mmsno\u001b[0m\u001b[0;34m.\u001b[0m\u001b[0mmatrix\u001b[0m\u001b[0;34m(\u001b[0m\u001b[0mdata_r\u001b[0m\u001b[0;34m)\u001b[0m\u001b[0;34m\u001b[0m\u001b[0;34m\u001b[0m\u001b[0m\n\u001b[1;32m      3\u001b[0m \u001b[0mplt\u001b[0m\u001b[0;34m.\u001b[0m\u001b[0mshow\u001b[0m\u001b[0;34m(\u001b[0m\u001b[0;34m)\u001b[0m\u001b[0;34m\u001b[0m\u001b[0;34m\u001b[0m\u001b[0m\n",
      "\u001b[0;31mModuleNotFoundError\u001b[0m: No module named 'missingno'"
     ]
    }
   ],
   "source": [
    "import missingno as msno\n",
    "msno.matrix(data_r)\n",
    "plt.show()"
   ]
  },
  {
   "cell_type": "code",
   "execution_count": 16,
   "metadata": {},
   "outputs": [
    {
     "data": {
      "text/plain": [
       "Unnamed: 0          0\n",
       "title               0\n",
       "year               20\n",
       "director            0\n",
       "running_time        0\n",
       "views               0\n",
       "likes               0\n",
       "avg_rating          0\n",
       "half_star           0\n",
       "one_star            0\n",
       "one_half_star       0\n",
       "two_star            0\n",
       "two_half_star       0\n",
       "three_star          0\n",
       "three_half_star     0\n",
       "four_star           0\n",
       "four_half_star      0\n",
       "five_star           0\n",
       "genre               0\n",
       "dtype: int64"
      ]
     },
     "execution_count": 16,
     "metadata": {},
     "output_type": "execute_result"
    }
   ],
   "source": [
    "df_genres['director'] = df_genres['director'].fillna('directorNA')\n",
    "df_genres.isna().sum()"
   ]
  },
  {
   "cell_type": "code",
   "execution_count": null,
   "metadata": {},
   "outputs": [],
   "source": [
    "df_genres['year_isna'] = df_genres['year'].isna()"
   ]
  },
  {
   "cell_type": "code",
   "execution_count": 17,
   "metadata": {},
   "outputs": [],
   "source": [
    "# Hyperparameter testing 1 - year as mean\n",
    "# df_genres['year'] = df_genres['year'].fillna(df_genres['year'].mean())\n",
    "df_genres['year'] = df_genres['year'].fillna(0)"
   ]
  },
  {
   "cell_type": "code",
   "execution_count": 18,
   "metadata": {},
   "outputs": [],
   "source": [
    "# genre feature model training"
   ]
  },
  {
   "cell_type": "code",
   "execution_count": 19,
   "metadata": {},
   "outputs": [],
   "source": [
    "model = LinearRegression()"
   ]
  },
  {
   "cell_type": "code",
   "execution_count": 20,
   "metadata": {
    "scrolled": true
   },
   "outputs": [
    {
     "data": {
      "text/html": [
       "<div>\n",
       "<style scoped>\n",
       "    .dataframe tbody tr th:only-of-type {\n",
       "        vertical-align: middle;\n",
       "    }\n",
       "\n",
       "    .dataframe tbody tr th {\n",
       "        vertical-align: top;\n",
       "    }\n",
       "\n",
       "    .dataframe thead th {\n",
       "        text-align: right;\n",
       "    }\n",
       "</style>\n",
       "<table border=\"1\" class=\"dataframe\">\n",
       "  <thead>\n",
       "    <tr style=\"text-align: right;\">\n",
       "      <th></th>\n",
       "      <th>animation</th>\n",
       "      <th>horror</th>\n",
       "      <th>scifi</th>\n",
       "      <th>thriller</th>\n",
       "      <th>war</th>\n",
       "    </tr>\n",
       "  </thead>\n",
       "  <tbody>\n",
       "    <tr>\n",
       "      <th>0</th>\n",
       "      <td>0</td>\n",
       "      <td>1</td>\n",
       "      <td>0</td>\n",
       "      <td>0</td>\n",
       "      <td>0</td>\n",
       "    </tr>\n",
       "    <tr>\n",
       "      <th>1</th>\n",
       "      <td>0</td>\n",
       "      <td>1</td>\n",
       "      <td>0</td>\n",
       "      <td>0</td>\n",
       "      <td>0</td>\n",
       "    </tr>\n",
       "    <tr>\n",
       "      <th>2</th>\n",
       "      <td>0</td>\n",
       "      <td>1</td>\n",
       "      <td>0</td>\n",
       "      <td>0</td>\n",
       "      <td>0</td>\n",
       "    </tr>\n",
       "    <tr>\n",
       "      <th>3</th>\n",
       "      <td>0</td>\n",
       "      <td>1</td>\n",
       "      <td>0</td>\n",
       "      <td>0</td>\n",
       "      <td>0</td>\n",
       "    </tr>\n",
       "    <tr>\n",
       "      <th>4</th>\n",
       "      <td>0</td>\n",
       "      <td>1</td>\n",
       "      <td>0</td>\n",
       "      <td>0</td>\n",
       "      <td>0</td>\n",
       "    </tr>\n",
       "    <tr>\n",
       "      <th>...</th>\n",
       "      <td>...</td>\n",
       "      <td>...</td>\n",
       "      <td>...</td>\n",
       "      <td>...</td>\n",
       "      <td>...</td>\n",
       "    </tr>\n",
       "    <tr>\n",
       "      <th>40013</th>\n",
       "      <td>1</td>\n",
       "      <td>0</td>\n",
       "      <td>0</td>\n",
       "      <td>0</td>\n",
       "      <td>0</td>\n",
       "    </tr>\n",
       "    <tr>\n",
       "      <th>40014</th>\n",
       "      <td>1</td>\n",
       "      <td>0</td>\n",
       "      <td>0</td>\n",
       "      <td>0</td>\n",
       "      <td>0</td>\n",
       "    </tr>\n",
       "    <tr>\n",
       "      <th>40015</th>\n",
       "      <td>1</td>\n",
       "      <td>0</td>\n",
       "      <td>0</td>\n",
       "      <td>0</td>\n",
       "      <td>0</td>\n",
       "    </tr>\n",
       "    <tr>\n",
       "      <th>40016</th>\n",
       "      <td>1</td>\n",
       "      <td>0</td>\n",
       "      <td>0</td>\n",
       "      <td>0</td>\n",
       "      <td>0</td>\n",
       "    </tr>\n",
       "    <tr>\n",
       "      <th>40017</th>\n",
       "      <td>1</td>\n",
       "      <td>0</td>\n",
       "      <td>0</td>\n",
       "      <td>0</td>\n",
       "      <td>0</td>\n",
       "    </tr>\n",
       "  </tbody>\n",
       "</table>\n",
       "<p>40018 rows × 5 columns</p>\n",
       "</div>"
      ],
      "text/plain": [
       "       animation  horror  scifi  thriller  war\n",
       "0              0       1      0         0    0\n",
       "1              0       1      0         0    0\n",
       "2              0       1      0         0    0\n",
       "3              0       1      0         0    0\n",
       "4              0       1      0         0    0\n",
       "...          ...     ...    ...       ...  ...\n",
       "40013          1       0      0         0    0\n",
       "40014          1       0      0         0    0\n",
       "40015          1       0      0         0    0\n",
       "40016          1       0      0         0    0\n",
       "40017          1       0      0         0    0\n",
       "\n",
       "[40018 rows x 5 columns]"
      ]
     },
     "execution_count": 20,
     "metadata": {},
     "output_type": "execute_result"
    }
   ],
   "source": [
    "X = pd.get_dummies(df_genres['genre'])\n",
    "X"
   ]
  },
  {
   "cell_type": "code",
   "execution_count": 21,
   "metadata": {},
   "outputs": [],
   "source": [
    "y = df_genres['avg_rating']"
   ]
  },
  {
   "cell_type": "code",
   "execution_count": 22,
   "metadata": {},
   "outputs": [],
   "source": [
    "X_train_true, X_test_true, y_train_true, y_test_true = train_test_split(X, y, test_size = 0.3, random_state=42)"
   ]
  },
  {
   "cell_type": "code",
   "execution_count": 23,
   "metadata": {},
   "outputs": [
    {
     "data": {
      "text/plain": [
       "LinearRegression()"
      ]
     },
     "execution_count": 23,
     "metadata": {},
     "output_type": "execute_result"
    }
   ],
   "source": [
    "model.fit(X_train_true, y_train_true)"
   ]
  },
  {
   "cell_type": "code",
   "execution_count": 25,
   "metadata": {},
   "outputs": [],
   "source": [
    "y_test_pred = model.predict(X_test_true)"
   ]
  },
  {
   "cell_type": "code",
   "execution_count": 26,
   "metadata": {},
   "outputs": [
    {
     "data": {
      "text/plain": [
       "0.11451311872464776"
      ]
     },
     "execution_count": 26,
     "metadata": {},
     "output_type": "execute_result"
    }
   ],
   "source": [
    "model.score(X_test_true, y_test_true)"
   ]
  },
  {
   "cell_type": "code",
   "execution_count": 27,
   "metadata": {
    "scrolled": true
   },
   "outputs": [
    {
     "data": {
      "text/plain": [
       "array([5.07951663e+11, 5.07951663e+11, 5.07951663e+11, 5.07951663e+11,\n",
       "       5.07951663e+11])"
      ]
     },
     "execution_count": 27,
     "metadata": {},
     "output_type": "execute_result"
    }
   ],
   "source": [
    "# predictive power for this feature\n",
    "model.coef_"
   ]
  },
  {
   "cell_type": "code",
   "execution_count": 28,
   "metadata": {},
   "outputs": [
    {
     "data": {
      "text/plain": [
       "array([2.9407959 , 2.81591797, 2.8973999 , 3.21600342, 3.27819824])"
      ]
     },
     "execution_count": 28,
     "metadata": {},
     "output_type": "execute_result"
    }
   ],
   "source": [
    "pd.Series(y_test_pred).unique()"
   ]
  },
  {
   "cell_type": "code",
   "execution_count": 29,
   "metadata": {
    "scrolled": true
   },
   "outputs": [
    {
     "data": {
      "text/plain": [
       "0.44873937359966537"
      ]
     },
     "execution_count": 29,
     "metadata": {},
     "output_type": "execute_result"
    }
   ],
   "source": [
    "rmse = np.sqrt(mean_squared_error(y_test_true, y_test_pred))\n",
    "rmse"
   ]
  },
  {
   "cell_type": "code",
   "execution_count": 30,
   "metadata": {},
   "outputs": [
    {
     "data": {
      "text/plain": [
       "22949    0.440796\n",
       "22690   -0.159204\n",
       "2299     0.315918\n",
       "8671    -0.084082\n",
       "29288   -0.759204\n",
       "           ...   \n",
       "37363   -0.383997\n",
       "6280     0.215918\n",
       "5953    -0.584082\n",
       "16847   -0.102600\n",
       "25071   -0.059204\n",
       "Name: avg_rating, Length: 12006, dtype: float64"
      ]
     },
     "execution_count": 30,
     "metadata": {},
     "output_type": "execute_result"
    }
   ],
   "source": [
    "y_error = y_test_pred - y_test_true\n",
    "y_error"
   ]
  },
  {
   "cell_type": "code",
   "execution_count": 31,
   "metadata": {},
   "outputs": [
    {
     "data": {
      "text/plain": [
       "0.4487393735996664"
      ]
     },
     "execution_count": 31,
     "metadata": {},
     "output_type": "execute_result"
    }
   ],
   "source": [
    "standard_error = ((y_error**2).mean())**0.5\n",
    "standard_error"
   ]
  },
  {
   "cell_type": "code",
   "execution_count": 35,
   "metadata": {},
   "outputs": [
    {
     "data": {
      "text/plain": [
       "array([ 0.97090744, -0.3662593 ,  0.69260308, ..., -1.31314703,\n",
       "       -0.24011098, -0.14339818])"
      ]
     },
     "execution_count": 35,
     "metadata": {},
     "output_type": "execute_result"
    }
   ],
   "source": [
    "#compute z score\n",
    "stats.zscore(y_error)"
   ]
  },
  {
   "cell_type": "code",
   "execution_count": null,
   "metadata": {},
   "outputs": [],
   "source": [
    "#visualize accuracy"
   ]
  },
  {
   "cell_type": "code",
   "execution_count": 33,
   "metadata": {
    "scrolled": true
   },
   "outputs": [
    {
     "ename": "ModuleNotFoundError",
     "evalue": "No module named 'yellowbrick'",
     "output_type": "error",
     "traceback": [
      "\u001b[0;31m---------------------------------------------------------------------------\u001b[0m",
      "\u001b[0;31mModuleNotFoundError\u001b[0m                       Traceback (most recent call last)",
      "\u001b[0;32m<ipython-input-33-73675421f9eb>\u001b[0m in \u001b[0;36m<module>\u001b[0;34m\u001b[0m\n\u001b[0;32m----> 1\u001b[0;31m \u001b[0;32mfrom\u001b[0m \u001b[0myellowbrick\u001b[0m\u001b[0;34m.\u001b[0m\u001b[0mregressor\u001b[0m \u001b[0;32mimport\u001b[0m \u001b[0mPredictionError\u001b[0m\u001b[0;34m,\u001b[0m \u001b[0mResidualsPlot\u001b[0m\u001b[0;34m\u001b[0m\u001b[0;34m\u001b[0m\u001b[0m\n\u001b[0m\u001b[1;32m      2\u001b[0m \u001b[0mvisualizer\u001b[0m \u001b[0;34m=\u001b[0m \u001b[0mPredictionError\u001b[0m\u001b[0;34m(\u001b[0m\u001b[0mmodel\u001b[0m\u001b[0;34m)\u001b[0m\u001b[0;34m\u001b[0m\u001b[0;34m\u001b[0m\u001b[0m\n\u001b[1;32m      3\u001b[0m \u001b[0mvisualizer\u001b[0m\u001b[0;34m.\u001b[0m\u001b[0mfit\u001b[0m\u001b[0;34m(\u001b[0m\u001b[0mX_train_true\u001b[0m\u001b[0;34m,\u001b[0m \u001b[0my_train_true\u001b[0m\u001b[0;34m)\u001b[0m\u001b[0;34m\u001b[0m\u001b[0;34m\u001b[0m\u001b[0m\n\u001b[1;32m      4\u001b[0m \u001b[0mvisualizer\u001b[0m\u001b[0;34m.\u001b[0m\u001b[0mscore\u001b[0m\u001b[0;34m(\u001b[0m\u001b[0mX_test_true\u001b[0m\u001b[0;34m,\u001b[0m \u001b[0my_test_true\u001b[0m\u001b[0;34m)\u001b[0m\u001b[0;34m\u001b[0m\u001b[0;34m\u001b[0m\u001b[0m\n\u001b[1;32m      5\u001b[0m \u001b[0mvisualizer\u001b[0m\u001b[0;34m.\u001b[0m\u001b[0mpoof\u001b[0m\u001b[0;34m(\u001b[0m\u001b[0;34m)\u001b[0m\u001b[0;34m\u001b[0m\u001b[0;34m\u001b[0m\u001b[0m\n",
      "\u001b[0;31mModuleNotFoundError\u001b[0m: No module named 'yellowbrick'"
     ]
    }
   ],
   "source": [
    "from yellowbrick.regressor import PredictionError, ResidualsPlot\n",
    "visualizer = PredictionError(model)\n",
    "visualizer.fit(X_train_true, y_train_true)  \n",
    "visualizer.score(X_test_true, y_test_true)  \n",
    "visualizer.poof()"
   ]
  },
  {
   "cell_type": "code",
   "execution_count": 55,
   "metadata": {},
   "outputs": [
    {
     "data": {
      "text/plain": [
       "<AxesSubplot:xlabel='avg_rating'>"
      ]
     },
     "execution_count": 55,
     "metadata": {},
     "output_type": "execute_result"
    },
    {
     "data": {
      "image/png": "[encoded data removed]",
      "text/plain": [
       "<Figure size 432x288 with 1 Axes>"
      ]
     },
     "metadata": {
      "needs_background": "light"
     },
     "output_type": "display_data"
    }
   ],
   "source": [
    "sns.scatterplot(x=y_test_true, y=y_test_pred)\n",
    "# plt.show()"
   ]
  },
  {
   "cell_type": "code",
   "execution_count": null,
   "metadata": {},
   "outputs": [],
   "source": [
    "# experiment 2 - replace year with median"
   ]
  },
  {
   "cell_type": "code",
   "execution_count": 36,
   "metadata": {},
   "outputs": [
    {
     "data": {
      "text/plain": [
       "Unnamed: 0         0\n",
       "title              0\n",
       "year               0\n",
       "director           0\n",
       "running_time       0\n",
       "views              0\n",
       "likes              0\n",
       "avg_rating         0\n",
       "half_star          0\n",
       "one_star           0\n",
       "one_half_star      0\n",
       "two_star           0\n",
       "two_half_star      0\n",
       "three_star         0\n",
       "three_half_star    0\n",
       "four_star          0\n",
       "four_half_star     0\n",
       "five_star          0\n",
       "genre              0\n",
       "dtype: int64"
      ]
     },
     "execution_count": 36,
     "metadata": {},
     "output_type": "execute_result"
    }
   ],
   "source": [
    "df_genres['year'] = df_genres['year'].fillna(df_genres['year'].median())\n",
    "df_genres.isna().sum()"
   ]
  },
  {
   "cell_type": "code",
   "execution_count": 37,
   "metadata": {},
   "outputs": [],
   "source": [
    "X_train_true, X_test_true, y_train_true, y_test_true = train_test_split(X, y, test_size = 0.3, random_state=42)"
   ]
  },
  {
   "cell_type": "code",
   "execution_count": 38,
   "metadata": {},
   "outputs": [
    {
     "data": {
      "text/plain": [
       "LinearRegression()"
      ]
     },
     "execution_count": 38,
     "metadata": {},
     "output_type": "execute_result"
    }
   ],
   "source": [
    "model.fit(X_train_true, y_train_true)"
   ]
  },
  {
   "cell_type": "code",
   "execution_count": 39,
   "metadata": {},
   "outputs": [],
   "source": [
    "y_test_pred = model.predict(X_test_true)"
   ]
  },
  {
   "cell_type": "code",
   "execution_count": 40,
   "metadata": {},
   "outputs": [
    {
     "data": {
      "text/plain": [
       "0.11451311872464776"
      ]
     },
     "execution_count": 40,
     "metadata": {},
     "output_type": "execute_result"
    }
   ],
   "source": [
    "model.score(X_test_true, y_test_true)"
   ]
  },
  {
   "cell_type": "code",
   "execution_count": 41,
   "metadata": {},
   "outputs": [
    {
     "data": {
      "text/plain": [
       "array([5.07951663e+11, 5.07951663e+11, 5.07951663e+11, 5.07951663e+11,\n",
       "       5.07951663e+11])"
      ]
     },
     "execution_count": 41,
     "metadata": {},
     "output_type": "execute_result"
    }
   ],
   "source": [
    "model.coef_"
   ]
  },
  {
   "cell_type": "code",
   "execution_count": 42,
   "metadata": {},
   "outputs": [
    {
     "data": {
      "text/plain": [
       "array([2.9407959 , 2.81591797, 2.8973999 , 3.21600342, 3.27819824])"
      ]
     },
     "execution_count": 42,
     "metadata": {},
     "output_type": "execute_result"
    }
   ],
   "source": [
    "pd.Series(y_test_pred).unique()"
   ]
  },
  {
   "cell_type": "code",
   "execution_count": 43,
   "metadata": {},
   "outputs": [
    {
     "data": {
      "text/plain": [
       "0.44873937359966537"
      ]
     },
     "execution_count": 43,
     "metadata": {},
     "output_type": "execute_result"
    }
   ],
   "source": [
    "rmse = np.sqrt(mean_squared_error(y_test_true, y_test_pred))\n",
    "rmse"
   ]
  },
  {
   "cell_type": "code",
   "execution_count": 44,
   "metadata": {},
   "outputs": [
    {
     "data": {
      "text/plain": [
       "22949    0.440796\n",
       "22690   -0.159204\n",
       "2299     0.315918\n",
       "8671    -0.084082\n",
       "29288   -0.759204\n",
       "           ...   \n",
       "37363   -0.383997\n",
       "6280     0.215918\n",
       "5953    -0.584082\n",
       "16847   -0.102600\n",
       "25071   -0.059204\n",
       "Name: avg_rating, Length: 12006, dtype: float64"
      ]
     },
     "execution_count": 44,
     "metadata": {},
     "output_type": "execute_result"
    }
   ],
   "source": [
    "y_error = y_test_pred - y_test_true\n",
    "y_error"
   ]
  },
  {
   "cell_type": "code",
   "execution_count": 45,
   "metadata": {},
   "outputs": [
    {
     "data": {
      "text/plain": [
       "0.4487393735996664"
      ]
     },
     "execution_count": 45,
     "metadata": {},
     "output_type": "execute_result"
    }
   ],
   "source": [
    "standard_error = ((y_error**2).mean())**0.5\n",
    "standard_error"
   ]
  },
  {
   "cell_type": "code",
   "execution_count": 46,
   "metadata": {},
   "outputs": [
    {
     "data": {
      "text/plain": [
       "array([ 0.97090744, -0.3662593 ,  0.69260308, ..., -1.31314703,\n",
       "       -0.24011098, -0.14339818])"
      ]
     },
     "execution_count": 46,
     "metadata": {},
     "output_type": "execute_result"
    }
   ],
   "source": [
    "stats.zscore(y_error)"
   ]
  },
  {
   "cell_type": "code",
   "execution_count": null,
   "metadata": {},
   "outputs": [],
   "source": [
    "#experiment 3 - impute missing values"
   ]
  },
  {
   "cell_type": "code",
   "execution_count": 48,
   "metadata": {},
   "outputs": [
    {
     "ename": "ImportError",
     "evalue": "cannot import name 'Imputer' from 'sklearn.preprocessing' (/opt/anaconda3/lib/python3.8/site-packages/sklearn/preprocessing/__init__.py)",
     "output_type": "error",
     "traceback": [
      "\u001b[0;31m---------------------------------------------------------------------------\u001b[0m",
      "\u001b[0;31mImportError\u001b[0m                               Traceback (most recent call last)",
      "\u001b[0;32m<ipython-input-48-8648ae7e9027>\u001b[0m in \u001b[0;36m<module>\u001b[0;34m\u001b[0m\n\u001b[1;32m      1\u001b[0m \u001b[0;31m#fill values with NaN instead of 0? find axis for yearS=\u001b[0m\u001b[0;34m\u001b[0m\u001b[0;34m\u001b[0m\u001b[0;34m\u001b[0m\u001b[0m\n\u001b[0;32m----> 2\u001b[0;31m \u001b[0;32mfrom\u001b[0m \u001b[0msklearn\u001b[0m\u001b[0;34m.\u001b[0m\u001b[0mpreprocessing\u001b[0m \u001b[0;32mimport\u001b[0m \u001b[0mImputer\u001b[0m\u001b[0;34m\u001b[0m\u001b[0;34m\u001b[0m\u001b[0m\n\u001b[0m\u001b[1;32m      3\u001b[0m \u001b[0mimp\u001b[0m \u001b[0;34m=\u001b[0m \u001b[0mImputer\u001b[0m\u001b[0;34m(\u001b[0m\u001b[0mmissing_values\u001b[0m\u001b[0;34m=\u001b[0m\u001b[0;34m'NaN'\u001b[0m\u001b[0;34m,\u001b[0m \u001b[0mstrategy\u001b[0m\u001b[0;34m=\u001b[0m\u001b[0;34m'most_frequent'\u001b[0m\u001b[0;34m,\u001b[0m \u001b[0maxis\u001b[0m\u001b[0;34m=\u001b[0m\u001b[0;36m0\u001b[0m\u001b[0;34m)\u001b[0m\u001b[0;34m\u001b[0m\u001b[0;34m\u001b[0m\u001b[0m\n\u001b[1;32m      4\u001b[0m \u001b[0mX_train_true\u001b[0m\u001b[0;34m,\u001b[0m \u001b[0mX_test_true\u001b[0m\u001b[0;34m,\u001b[0m \u001b[0my_train_true\u001b[0m\u001b[0;34m,\u001b[0m \u001b[0my_test_true\u001b[0m \u001b[0;34m=\u001b[0m \u001b[0mtrain_test_split\u001b[0m\u001b[0;34m(\u001b[0m\u001b[0mX\u001b[0m\u001b[0;34m,\u001b[0m \u001b[0my\u001b[0m\u001b[0;34m,\u001b[0m \u001b[0mtest_size\u001b[0m \u001b[0;34m=\u001b[0m \u001b[0;36m0.3\u001b[0m\u001b[0;34m,\u001b[0m \u001b[0mrandom_state\u001b[0m\u001b[0;34m=\u001b[0m\u001b[0;36m42\u001b[0m\u001b[0;34m)\u001b[0m\u001b[0;34m\u001b[0m\u001b[0;34m\u001b[0m\u001b[0m\n\u001b[1;32m      5\u001b[0m \u001b[0mimputer\u001b[0m \u001b[0;34m=\u001b[0m \u001b[0mimp\u001b[0m\u001b[0;34m.\u001b[0m\u001b[0mfit\u001b[0m\u001b[0;34m(\u001b[0m\u001b[0mX_train_true\u001b[0m\u001b[0;34m)\u001b[0m\u001b[0;34m\u001b[0m\u001b[0;34m\u001b[0m\u001b[0m\n",
      "\u001b[0;31mImportError\u001b[0m: cannot import name 'Imputer' from 'sklearn.preprocessing' (/opt/anaconda3/lib/python3.8/site-packages/sklearn/preprocessing/__init__.py)"
     ]
    }
   ],
   "source": [
    "#fill values with NaN instead of 0? find axis for yearS=\n",
    "from sklearn.preprocessing import Imputer\n",
    "imp = Imputer(missing_values='NaN', strategy='most_frequent', axis=0)\n",
    "X_train_true, X_test_true, y_train_true, y_test_true = train_test_split(X, y, test_size = 0.3, random_state=42)\n",
    "imputer = imp.fit(X_train_true)"
   ]
  },
  {
   "cell_type": "code",
   "execution_count": null,
   "metadata": {},
   "outputs": [],
   "source": [
    "imp_test = imp.transform(X_test_true)"
   ]
  },
  {
   "cell_type": "code",
   "execution_count": null,
   "metadata": {},
   "outputs": [],
   "source": [
    "y_test_pred = model.predict(X_test_true)"
   ]
  },
  {
   "cell_type": "code",
   "execution_count": null,
   "metadata": {},
   "outputs": [],
   "source": [
    "model.score(X_test_true, y_test_true)"
   ]
  },
  {
   "cell_type": "code",
   "execution_count": null,
   "metadata": {},
   "outputs": [],
   "source": [
    "model.coef_"
   ]
  },
  {
   "cell_type": "code",
   "execution_count": null,
   "metadata": {},
   "outputs": [],
   "source": [
    "pd.Series(y_test_pred).unique()"
   ]
  },
  {
   "cell_type": "code",
   "execution_count": null,
   "metadata": {},
   "outputs": [],
   "source": [
    "rmse = np.sqrt(mean_squared_error(y_test_true, y_test_pred))\n",
    "rmse"
   ]
  },
  {
   "cell_type": "code",
   "execution_count": null,
   "metadata": {},
   "outputs": [],
   "source": [
    "y_error = y_test_pred - y_test_true\n",
    "y_error"
   ]
  },
  {
   "cell_type": "code",
   "execution_count": null,
   "metadata": {},
   "outputs": [],
   "source": [
    "standard_error = ((y_error**2).mean())**0.5\n",
    "standard_error"
   ]
  },
  {
   "cell_type": "code",
   "execution_count": null,
   "metadata": {},
   "outputs": [],
   "source": [
    "stats.zscore(y_error)"
   ]
  },
  {
   "cell_type": "code",
   "execution_count": null,
   "metadata": {},
   "outputs": [],
   "source": []
  },
  {
   "cell_type": "code",
   "execution_count": null,
   "metadata": {},
   "outputs": [],
   "source": [
    "#export best model as new DF"
   ]
  }
 ],
 "metadata": {
  "kernelspec": {
   "display_name": "Python 3",
   "language": "python",
   "name": "python3"
  },
  "language_info": {
   "codemirror_mode": {
    "name": "ipython",
    "version": 3
   },
   "file_extension": ".py",
   "mimetype": "text/x-python",
   "name": "python",
   "nbconvert_exporter": "python",
   "pygments_lexer": "ipython3",
   "version": "3.8.5"
  }
 },
 "nbformat": 4,
 "nbformat_minor": 2
}

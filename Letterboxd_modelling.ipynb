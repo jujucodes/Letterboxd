{
 "cells": [
  {
   "cell_type": "code",
   "execution_count": 1,
   "metadata": {
    "scrolled": false
   },
   "outputs": [],
   "source": [
    "import pandas as pd\n",
    "import matplotlib.pyplot as plt\n",
    "import seaborn as sns\n",
    "from sklearn.linear_model import LinearRegression \n",
    "from sklearn.metrics import mean_squared_error\n",
    "from sklearn.model_selection import train_test_split\n",
    "from sklearn.model_selection import cross_val_score\n",
    "import numpy as np\n",
    "pd.options.display.max_columns = 10000"
   ]
  },
  {
   "cell_type": "code",
   "execution_count": 2,
   "metadata": {},
   "outputs": [],
   "source": [
    "#read in new df from preprocessing\n",
    "df = pd.read_csv('preprocessed_letterboxd.csv')"
   ]
  },
  {
   "cell_type": "code",
   "execution_count": 3,
   "metadata": {
    "scrolled": true
   },
   "outputs": [
    {
     "data": {
      "text/html": [
       "<div>\n",
       "<style scoped>\n",
       "    .dataframe tbody tr th:only-of-type {\n",
       "        vertical-align: middle;\n",
       "    }\n",
       "\n",
       "    .dataframe tbody tr th {\n",
       "        vertical-align: top;\n",
       "    }\n",
       "\n",
       "    .dataframe thead th {\n",
       "        text-align: right;\n",
       "    }\n",
       "</style>\n",
       "<table border=\"1\" class=\"dataframe\">\n",
       "  <thead>\n",
       "    <tr style=\"text-align: right;\">\n",
       "      <th></th>\n",
       "      <th>title</th>\n",
       "      <th>year</th>\n",
       "      <th>director</th>\n",
       "      <th>running_time</th>\n",
       "      <th>views</th>\n",
       "      <th>likes</th>\n",
       "      <th>avg_rating</th>\n",
       "      <th>half_star</th>\n",
       "      <th>one_star</th>\n",
       "      <th>one_half_star</th>\n",
       "      <th>two_star</th>\n",
       "      <th>two_half_star</th>\n",
       "      <th>three_star</th>\n",
       "      <th>three_half_star</th>\n",
       "      <th>four_star</th>\n",
       "      <th>four_half_star</th>\n",
       "      <th>five_star</th>\n",
       "      <th>genre</th>\n",
       "      <th>year_isna</th>\n",
       "      <th>animation</th>\n",
       "      <th>horror</th>\n",
       "      <th>scifi</th>\n",
       "      <th>thriller</th>\n",
       "      <th>war</th>\n",
       "    </tr>\n",
       "  </thead>\n",
       "  <tbody>\n",
       "    <tr>\n",
       "      <th>0</th>\n",
       "      <td>Get Out</td>\n",
       "      <td>2017.0</td>\n",
       "      <td>Jordan Peele</td>\n",
       "      <td>104</td>\n",
       "      <td>605132</td>\n",
       "      <td>261668</td>\n",
       "      <td>4.1</td>\n",
       "      <td>647</td>\n",
       "      <td>1560</td>\n",
       "      <td>1001</td>\n",
       "      <td>5727</td>\n",
       "      <td>5821</td>\n",
       "      <td>34069</td>\n",
       "      <td>45053</td>\n",
       "      <td>136842</td>\n",
       "      <td>65726</td>\n",
       "      <td>110264</td>\n",
       "      <td>horror</td>\n",
       "      <td>False</td>\n",
       "      <td>0</td>\n",
       "      <td>1</td>\n",
       "      <td>0</td>\n",
       "      <td>0</td>\n",
       "      <td>0</td>\n",
       "    </tr>\n",
       "    <tr>\n",
       "      <th>1</th>\n",
       "      <td>Zombieland</td>\n",
       "      <td>2009.0</td>\n",
       "      <td>Ruben Fleischer</td>\n",
       "      <td>88</td>\n",
       "      <td>339357</td>\n",
       "      <td>77110</td>\n",
       "      <td>3.6</td>\n",
       "      <td>477</td>\n",
       "      <td>1384</td>\n",
       "      <td>1353</td>\n",
       "      <td>6280</td>\n",
       "      <td>9055</td>\n",
       "      <td>37228</td>\n",
       "      <td>43168</td>\n",
       "      <td>53117</td>\n",
       "      <td>10931</td>\n",
       "      <td>11907</td>\n",
       "      <td>horror</td>\n",
       "      <td>False</td>\n",
       "      <td>0</td>\n",
       "      <td>1</td>\n",
       "      <td>0</td>\n",
       "      <td>0</td>\n",
       "      <td>0</td>\n",
       "    </tr>\n",
       "    <tr>\n",
       "      <th>2</th>\n",
       "      <td>Suspiria</td>\n",
       "      <td>2018.0</td>\n",
       "      <td>Luca Guadagnino</td>\n",
       "      <td>152</td>\n",
       "      <td>122728</td>\n",
       "      <td>37820</td>\n",
       "      <td>3.7</td>\n",
       "      <td>611</td>\n",
       "      <td>1253</td>\n",
       "      <td>1266</td>\n",
       "      <td>4151</td>\n",
       "      <td>4844</td>\n",
       "      <td>12282</td>\n",
       "      <td>15033</td>\n",
       "      <td>25865</td>\n",
       "      <td>13732</td>\n",
       "      <td>12889</td>\n",
       "      <td>horror</td>\n",
       "      <td>False</td>\n",
       "      <td>0</td>\n",
       "      <td>1</td>\n",
       "      <td>0</td>\n",
       "      <td>0</td>\n",
       "      <td>0</td>\n",
       "    </tr>\n",
       "    <tr>\n",
       "      <th>3</th>\n",
       "      <td>Halloween</td>\n",
       "      <td>1978.0</td>\n",
       "      <td>John Carpenter</td>\n",
       "      <td>91</td>\n",
       "      <td>212751</td>\n",
       "      <td>59124</td>\n",
       "      <td>4.0</td>\n",
       "      <td>204</td>\n",
       "      <td>700</td>\n",
       "      <td>602</td>\n",
       "      <td>3003</td>\n",
       "      <td>3627</td>\n",
       "      <td>15715</td>\n",
       "      <td>17598</td>\n",
       "      <td>35627</td>\n",
       "      <td>14882</td>\n",
       "      <td>29077</td>\n",
       "      <td>horror</td>\n",
       "      <td>False</td>\n",
       "      <td>0</td>\n",
       "      <td>1</td>\n",
       "      <td>0</td>\n",
       "      <td>0</td>\n",
       "      <td>0</td>\n",
       "    </tr>\n",
       "    <tr>\n",
       "      <th>4</th>\n",
       "      <td>Rosemary's Baby</td>\n",
       "      <td>1968.0</td>\n",
       "      <td>Roman Polanski</td>\n",
       "      <td>137</td>\n",
       "      <td>158689</td>\n",
       "      <td>46272</td>\n",
       "      <td>4.2</td>\n",
       "      <td>156</td>\n",
       "      <td>372</td>\n",
       "      <td>253</td>\n",
       "      <td>1326</td>\n",
       "      <td>1412</td>\n",
       "      <td>6933</td>\n",
       "      <td>9562</td>\n",
       "      <td>27455</td>\n",
       "      <td>18616</td>\n",
       "      <td>24435</td>\n",
       "      <td>horror</td>\n",
       "      <td>False</td>\n",
       "      <td>0</td>\n",
       "      <td>1</td>\n",
       "      <td>0</td>\n",
       "      <td>0</td>\n",
       "      <td>0</td>\n",
       "    </tr>\n",
       "  </tbody>\n",
       "</table>\n",
       "</div>"
      ],
      "text/plain": [
       "             title    year         director  running_time   views   likes  \\\n",
       "0          Get Out  2017.0     Jordan Peele           104  605132  261668   \n",
       "1       Zombieland  2009.0  Ruben Fleischer            88  339357   77110   \n",
       "2         Suspiria  2018.0  Luca Guadagnino           152  122728   37820   \n",
       "3        Halloween  1978.0   John Carpenter            91  212751   59124   \n",
       "4  Rosemary's Baby  1968.0   Roman Polanski           137  158689   46272   \n",
       "\n",
       "   avg_rating  half_star  one_star  one_half_star  two_star  two_half_star  \\\n",
       "0         4.1        647      1560           1001      5727           5821   \n",
       "1         3.6        477      1384           1353      6280           9055   \n",
       "2         3.7        611      1253           1266      4151           4844   \n",
       "3         4.0        204       700            602      3003           3627   \n",
       "4         4.2        156       372            253      1326           1412   \n",
       "\n",
       "   three_star  three_half_star  four_star  four_half_star  five_star   genre  \\\n",
       "0       34069            45053     136842           65726     110264  horror   \n",
       "1       37228            43168      53117           10931      11907  horror   \n",
       "2       12282            15033      25865           13732      12889  horror   \n",
       "3       15715            17598      35627           14882      29077  horror   \n",
       "4        6933             9562      27455           18616      24435  horror   \n",
       "\n",
       "   year_isna  animation  horror  scifi  thriller  war  \n",
       "0      False          0       1      0         0    0  \n",
       "1      False          0       1      0         0    0  \n",
       "2      False          0       1      0         0    0  \n",
       "3      False          0       1      0         0    0  \n",
       "4      False          0       1      0         0    0  "
      ]
     },
     "execution_count": 3,
     "metadata": {},
     "output_type": "execute_result"
    }
   ],
   "source": [
    "df.head()"
   ]
  },
  {
   "cell_type": "code",
   "execution_count": 4,
   "metadata": {
    "scrolled": false
   },
   "outputs": [
    {
     "data": {
      "text/html": [
       "<div>\n",
       "<style scoped>\n",
       "    .dataframe tbody tr th:only-of-type {\n",
       "        vertical-align: middle;\n",
       "    }\n",
       "\n",
       "    .dataframe tbody tr th {\n",
       "        vertical-align: top;\n",
       "    }\n",
       "\n",
       "    .dataframe thead th {\n",
       "        text-align: right;\n",
       "    }\n",
       "</style>\n",
       "<table border=\"1\" class=\"dataframe\">\n",
       "  <thead>\n",
       "    <tr style=\"text-align: right;\">\n",
       "      <th></th>\n",
       "      <th>title</th>\n",
       "      <th>year</th>\n",
       "      <th>director</th>\n",
       "      <th>running_time</th>\n",
       "      <th>views</th>\n",
       "      <th>likes</th>\n",
       "      <th>avg_rating</th>\n",
       "      <th>half_star</th>\n",
       "      <th>one_star</th>\n",
       "      <th>one_half_star</th>\n",
       "      <th>two_star</th>\n",
       "      <th>two_half_star</th>\n",
       "      <th>three_star</th>\n",
       "      <th>three_half_star</th>\n",
       "      <th>four_star</th>\n",
       "      <th>four_half_star</th>\n",
       "      <th>five_star</th>\n",
       "      <th>genre</th>\n",
       "      <th>year_isna</th>\n",
       "      <th>animation</th>\n",
       "      <th>horror</th>\n",
       "      <th>scifi</th>\n",
       "      <th>thriller</th>\n",
       "      <th>war</th>\n",
       "    </tr>\n",
       "  </thead>\n",
       "  <tbody>\n",
       "    <tr>\n",
       "      <th>count</th>\n",
       "      <td>40018</td>\n",
       "      <td>40018.000000</td>\n",
       "      <td>40018</td>\n",
       "      <td>40018.000000</td>\n",
       "      <td>40018.000000</td>\n",
       "      <td>40018.000000</td>\n",
       "      <td>40018.000000</td>\n",
       "      <td>40018.000000</td>\n",
       "      <td>40018.000000</td>\n",
       "      <td>40018.000000</td>\n",
       "      <td>40018.000000</td>\n",
       "      <td>40018.000000</td>\n",
       "      <td>40018.000000</td>\n",
       "      <td>40018.000000</td>\n",
       "      <td>40018.000000</td>\n",
       "      <td>40018.000000</td>\n",
       "      <td>40018.000000</td>\n",
       "      <td>40018</td>\n",
       "      <td>40018</td>\n",
       "      <td>40018.000000</td>\n",
       "      <td>40018.000000</td>\n",
       "      <td>40018.000000</td>\n",
       "      <td>40018.000000</td>\n",
       "      <td>40018.000000</td>\n",
       "    </tr>\n",
       "    <tr>\n",
       "      <th>unique</th>\n",
       "      <td>30378</td>\n",
       "      <td>NaN</td>\n",
       "      <td>16293</td>\n",
       "      <td>NaN</td>\n",
       "      <td>NaN</td>\n",
       "      <td>NaN</td>\n",
       "      <td>NaN</td>\n",
       "      <td>NaN</td>\n",
       "      <td>NaN</td>\n",
       "      <td>NaN</td>\n",
       "      <td>NaN</td>\n",
       "      <td>NaN</td>\n",
       "      <td>NaN</td>\n",
       "      <td>NaN</td>\n",
       "      <td>NaN</td>\n",
       "      <td>NaN</td>\n",
       "      <td>NaN</td>\n",
       "      <td>5</td>\n",
       "      <td>2</td>\n",
       "      <td>NaN</td>\n",
       "      <td>NaN</td>\n",
       "      <td>NaN</td>\n",
       "      <td>NaN</td>\n",
       "      <td>NaN</td>\n",
       "    </tr>\n",
       "    <tr>\n",
       "      <th>top</th>\n",
       "      <td>Frankenstein</td>\n",
       "      <td>NaN</td>\n",
       "      <td>directorNA</td>\n",
       "      <td>NaN</td>\n",
       "      <td>NaN</td>\n",
       "      <td>NaN</td>\n",
       "      <td>NaN</td>\n",
       "      <td>NaN</td>\n",
       "      <td>NaN</td>\n",
       "      <td>NaN</td>\n",
       "      <td>NaN</td>\n",
       "      <td>NaN</td>\n",
       "      <td>NaN</td>\n",
       "      <td>NaN</td>\n",
       "      <td>NaN</td>\n",
       "      <td>NaN</td>\n",
       "      <td>NaN</td>\n",
       "      <td>thriller</td>\n",
       "      <td>False</td>\n",
       "      <td>NaN</td>\n",
       "      <td>NaN</td>\n",
       "      <td>NaN</td>\n",
       "      <td>NaN</td>\n",
       "      <td>NaN</td>\n",
       "    </tr>\n",
       "    <tr>\n",
       "      <th>freq</th>\n",
       "      <td>18</td>\n",
       "      <td>NaN</td>\n",
       "      <td>382</td>\n",
       "      <td>NaN</td>\n",
       "      <td>NaN</td>\n",
       "      <td>NaN</td>\n",
       "      <td>NaN</td>\n",
       "      <td>NaN</td>\n",
       "      <td>NaN</td>\n",
       "      <td>NaN</td>\n",
       "      <td>NaN</td>\n",
       "      <td>NaN</td>\n",
       "      <td>NaN</td>\n",
       "      <td>NaN</td>\n",
       "      <td>NaN</td>\n",
       "      <td>NaN</td>\n",
       "      <td>NaN</td>\n",
       "      <td>12836</td>\n",
       "      <td>39998</td>\n",
       "      <td>NaN</td>\n",
       "      <td>NaN</td>\n",
       "      <td>NaN</td>\n",
       "      <td>NaN</td>\n",
       "      <td>NaN</td>\n",
       "    </tr>\n",
       "    <tr>\n",
       "      <th>mean</th>\n",
       "      <td>NaN</td>\n",
       "      <td>1993.910465</td>\n",
       "      <td>NaN</td>\n",
       "      <td>80.726548</td>\n",
       "      <td>6826.995702</td>\n",
       "      <td>1316.224424</td>\n",
       "      <td>2.972707</td>\n",
       "      <td>54.423484</td>\n",
       "      <td>111.778300</td>\n",
       "      <td>105.667125</td>\n",
       "      <td>293.829577</td>\n",
       "      <td>309.652281</td>\n",
       "      <td>720.899595</td>\n",
       "      <td>614.732420</td>\n",
       "      <td>820.867235</td>\n",
       "      <td>299.167150</td>\n",
       "      <td>403.334599</td>\n",
       "      <td>NaN</td>\n",
       "      <td>NaN</td>\n",
       "      <td>0.202984</td>\n",
       "      <td>0.276176</td>\n",
       "      <td>0.145609</td>\n",
       "      <td>0.320756</td>\n",
       "      <td>0.054475</td>\n",
       "    </tr>\n",
       "    <tr>\n",
       "      <th>std</th>\n",
       "      <td>NaN</td>\n",
       "      <td>50.558016</td>\n",
       "      <td>NaN</td>\n",
       "      <td>42.044645</td>\n",
       "      <td>34009.245241</td>\n",
       "      <td>9260.254979</td>\n",
       "      <td>0.473895</td>\n",
       "      <td>329.131089</td>\n",
       "      <td>570.423667</td>\n",
       "      <td>474.780097</td>\n",
       "      <td>1275.813010</td>\n",
       "      <td>1253.326690</td>\n",
       "      <td>3208.731177</td>\n",
       "      <td>2979.839044</td>\n",
       "      <td>5347.700701</td>\n",
       "      <td>2518.510737</td>\n",
       "      <td>4304.396370</td>\n",
       "      <td>NaN</td>\n",
       "      <td>NaN</td>\n",
       "      <td>0.402225</td>\n",
       "      <td>0.447110</td>\n",
       "      <td>0.352719</td>\n",
       "      <td>0.466773</td>\n",
       "      <td>0.226956</td>\n",
       "    </tr>\n",
       "    <tr>\n",
       "      <th>min</th>\n",
       "      <td>NaN</td>\n",
       "      <td>0.000000</td>\n",
       "      <td>NaN</td>\n",
       "      <td>1.000000</td>\n",
       "      <td>33.000000</td>\n",
       "      <td>0.000000</td>\n",
       "      <td>0.900000</td>\n",
       "      <td>0.000000</td>\n",
       "      <td>0.000000</td>\n",
       "      <td>0.000000</td>\n",
       "      <td>0.000000</td>\n",
       "      <td>0.000000</td>\n",
       "      <td>0.000000</td>\n",
       "      <td>0.000000</td>\n",
       "      <td>0.000000</td>\n",
       "      <td>0.000000</td>\n",
       "      <td>0.000000</td>\n",
       "      <td>NaN</td>\n",
       "      <td>NaN</td>\n",
       "      <td>0.000000</td>\n",
       "      <td>0.000000</td>\n",
       "      <td>0.000000</td>\n",
       "      <td>0.000000</td>\n",
       "      <td>0.000000</td>\n",
       "    </tr>\n",
       "    <tr>\n",
       "      <th>25%</th>\n",
       "      <td>NaN</td>\n",
       "      <td>1982.000000</td>\n",
       "      <td>NaN</td>\n",
       "      <td>73.000000</td>\n",
       "      <td>109.250000</td>\n",
       "      <td>11.000000</td>\n",
       "      <td>2.700000</td>\n",
       "      <td>1.000000</td>\n",
       "      <td>2.000000</td>\n",
       "      <td>3.000000</td>\n",
       "      <td>8.000000</td>\n",
       "      <td>8.000000</td>\n",
       "      <td>13.000000</td>\n",
       "      <td>7.000000</td>\n",
       "      <td>4.000000</td>\n",
       "      <td>1.000000</td>\n",
       "      <td>1.000000</td>\n",
       "      <td>NaN</td>\n",
       "      <td>NaN</td>\n",
       "      <td>0.000000</td>\n",
       "      <td>0.000000</td>\n",
       "      <td>0.000000</td>\n",
       "      <td>0.000000</td>\n",
       "      <td>0.000000</td>\n",
       "    </tr>\n",
       "    <tr>\n",
       "      <th>50%</th>\n",
       "      <td>NaN</td>\n",
       "      <td>2004.000000</td>\n",
       "      <td>NaN</td>\n",
       "      <td>90.000000</td>\n",
       "      <td>288.000000</td>\n",
       "      <td>34.000000</td>\n",
       "      <td>3.000000</td>\n",
       "      <td>4.000000</td>\n",
       "      <td>8.000000</td>\n",
       "      <td>9.000000</td>\n",
       "      <td>20.000000</td>\n",
       "      <td>21.000000</td>\n",
       "      <td>36.000000</td>\n",
       "      <td>22.000000</td>\n",
       "      <td>15.000000</td>\n",
       "      <td>3.000000</td>\n",
       "      <td>4.000000</td>\n",
       "      <td>NaN</td>\n",
       "      <td>NaN</td>\n",
       "      <td>0.000000</td>\n",
       "      <td>0.000000</td>\n",
       "      <td>0.000000</td>\n",
       "      <td>0.000000</td>\n",
       "      <td>0.000000</td>\n",
       "    </tr>\n",
       "    <tr>\n",
       "      <th>75%</th>\n",
       "      <td>NaN</td>\n",
       "      <td>2014.000000</td>\n",
       "      <td>NaN</td>\n",
       "      <td>100.000000</td>\n",
       "      <td>1271.000000</td>\n",
       "      <td>165.000000</td>\n",
       "      <td>3.300000</td>\n",
       "      <td>16.000000</td>\n",
       "      <td>31.000000</td>\n",
       "      <td>33.000000</td>\n",
       "      <td>82.000000</td>\n",
       "      <td>90.000000</td>\n",
       "      <td>172.000000</td>\n",
       "      <td>113.000000</td>\n",
       "      <td>87.000000</td>\n",
       "      <td>18.000000</td>\n",
       "      <td>22.000000</td>\n",
       "      <td>NaN</td>\n",
       "      <td>NaN</td>\n",
       "      <td>0.000000</td>\n",
       "      <td>1.000000</td>\n",
       "      <td>0.000000</td>\n",
       "      <td>1.000000</td>\n",
       "      <td>0.000000</td>\n",
       "    </tr>\n",
       "    <tr>\n",
       "      <th>max</th>\n",
       "      <td>NaN</td>\n",
       "      <td>2021.000000</td>\n",
       "      <td>NaN</td>\n",
       "      <td>897.000000</td>\n",
       "      <td>719791.000000</td>\n",
       "      <td>286934.000000</td>\n",
       "      <td>4.600000</td>\n",
       "      <td>26627.000000</td>\n",
       "      <td>41716.000000</td>\n",
       "      <td>25062.000000</td>\n",
       "      <td>49076.000000</td>\n",
       "      <td>32039.000000</td>\n",
       "      <td>71584.000000</td>\n",
       "      <td>63621.000000</td>\n",
       "      <td>136870.000000</td>\n",
       "      <td>90025.000000</td>\n",
       "      <td>243931.000000</td>\n",
       "      <td>NaN</td>\n",
       "      <td>NaN</td>\n",
       "      <td>1.000000</td>\n",
       "      <td>1.000000</td>\n",
       "      <td>1.000000</td>\n",
       "      <td>1.000000</td>\n",
       "      <td>1.000000</td>\n",
       "    </tr>\n",
       "  </tbody>\n",
       "</table>\n",
       "</div>"
      ],
      "text/plain": [
       "               title          year    director  running_time          views  \\\n",
       "count          40018  40018.000000       40018  40018.000000   40018.000000   \n",
       "unique         30378           NaN       16293           NaN            NaN   \n",
       "top     Frankenstein           NaN  directorNA           NaN            NaN   \n",
       "freq              18           NaN         382           NaN            NaN   \n",
       "mean             NaN   1993.910465         NaN     80.726548    6826.995702   \n",
       "std              NaN     50.558016         NaN     42.044645   34009.245241   \n",
       "min              NaN      0.000000         NaN      1.000000      33.000000   \n",
       "25%              NaN   1982.000000         NaN     73.000000     109.250000   \n",
       "50%              NaN   2004.000000         NaN     90.000000     288.000000   \n",
       "75%              NaN   2014.000000         NaN    100.000000    1271.000000   \n",
       "max              NaN   2021.000000         NaN    897.000000  719791.000000   \n",
       "\n",
       "                likes    avg_rating     half_star      one_star  \\\n",
       "count    40018.000000  40018.000000  40018.000000  40018.000000   \n",
       "unique            NaN           NaN           NaN           NaN   \n",
       "top               NaN           NaN           NaN           NaN   \n",
       "freq              NaN           NaN           NaN           NaN   \n",
       "mean      1316.224424      2.972707     54.423484    111.778300   \n",
       "std       9260.254979      0.473895    329.131089    570.423667   \n",
       "min          0.000000      0.900000      0.000000      0.000000   \n",
       "25%         11.000000      2.700000      1.000000      2.000000   \n",
       "50%         34.000000      3.000000      4.000000      8.000000   \n",
       "75%        165.000000      3.300000     16.000000     31.000000   \n",
       "max     286934.000000      4.600000  26627.000000  41716.000000   \n",
       "\n",
       "        one_half_star      two_star  two_half_star    three_star  \\\n",
       "count    40018.000000  40018.000000   40018.000000  40018.000000   \n",
       "unique            NaN           NaN            NaN           NaN   \n",
       "top               NaN           NaN            NaN           NaN   \n",
       "freq              NaN           NaN            NaN           NaN   \n",
       "mean       105.667125    293.829577     309.652281    720.899595   \n",
       "std        474.780097   1275.813010    1253.326690   3208.731177   \n",
       "min          0.000000      0.000000       0.000000      0.000000   \n",
       "25%          3.000000      8.000000       8.000000     13.000000   \n",
       "50%          9.000000     20.000000      21.000000     36.000000   \n",
       "75%         33.000000     82.000000      90.000000    172.000000   \n",
       "max      25062.000000  49076.000000   32039.000000  71584.000000   \n",
       "\n",
       "        three_half_star      four_star  four_half_star      five_star  \\\n",
       "count      40018.000000   40018.000000    40018.000000   40018.000000   \n",
       "unique              NaN            NaN             NaN            NaN   \n",
       "top                 NaN            NaN             NaN            NaN   \n",
       "freq                NaN            NaN             NaN            NaN   \n",
       "mean         614.732420     820.867235      299.167150     403.334599   \n",
       "std         2979.839044    5347.700701     2518.510737    4304.396370   \n",
       "min            0.000000       0.000000        0.000000       0.000000   \n",
       "25%            7.000000       4.000000        1.000000       1.000000   \n",
       "50%           22.000000      15.000000        3.000000       4.000000   \n",
       "75%          113.000000      87.000000       18.000000      22.000000   \n",
       "max        63621.000000  136870.000000    90025.000000  243931.000000   \n",
       "\n",
       "           genre year_isna     animation        horror         scifi  \\\n",
       "count      40018     40018  40018.000000  40018.000000  40018.000000   \n",
       "unique         5         2           NaN           NaN           NaN   \n",
       "top     thriller     False           NaN           NaN           NaN   \n",
       "freq       12836     39998           NaN           NaN           NaN   \n",
       "mean         NaN       NaN      0.202984      0.276176      0.145609   \n",
       "std          NaN       NaN      0.402225      0.447110      0.352719   \n",
       "min          NaN       NaN      0.000000      0.000000      0.000000   \n",
       "25%          NaN       NaN      0.000000      0.000000      0.000000   \n",
       "50%          NaN       NaN      0.000000      0.000000      0.000000   \n",
       "75%          NaN       NaN      0.000000      1.000000      0.000000   \n",
       "max          NaN       NaN      1.000000      1.000000      1.000000   \n",
       "\n",
       "            thriller           war  \n",
       "count   40018.000000  40018.000000  \n",
       "unique           NaN           NaN  \n",
       "top              NaN           NaN  \n",
       "freq             NaN           NaN  \n",
       "mean        0.320756      0.054475  \n",
       "std         0.466773      0.226956  \n",
       "min         0.000000      0.000000  \n",
       "25%         0.000000      0.000000  \n",
       "50%         0.000000      0.000000  \n",
       "75%         1.000000      0.000000  \n",
       "max         1.000000      1.000000  "
      ]
     },
     "execution_count": 4,
     "metadata": {},
     "output_type": "execute_result"
    }
   ],
   "source": [
    "df.describe(include='all')"
   ]
  },
  {
   "cell_type": "code",
   "execution_count": 5,
   "metadata": {},
   "outputs": [
    {
     "data": {
      "text/plain": [
       "title              0\n",
       "year               0\n",
       "director           0\n",
       "running_time       0\n",
       "views              0\n",
       "likes              0\n",
       "avg_rating         0\n",
       "half_star          0\n",
       "one_star           0\n",
       "one_half_star      0\n",
       "two_star           0\n",
       "two_half_star      0\n",
       "three_star         0\n",
       "three_half_star    0\n",
       "four_star          0\n",
       "four_half_star     0\n",
       "five_star          0\n",
       "genre              0\n",
       "year_isna          0\n",
       "animation          0\n",
       "horror             0\n",
       "scifi              0\n",
       "thriller           0\n",
       "war                0\n",
       "dtype: int64"
      ]
     },
     "execution_count": 5,
     "metadata": {},
     "output_type": "execute_result"
    }
   ],
   "source": [
    "df.isnull().sum()"
   ]
  },
  {
   "cell_type": "code",
   "execution_count": 108,
   "metadata": {},
   "outputs": [
    {
     "data": {
      "text/plain": [
       "title               object\n",
       "year               float64\n",
       "director            object\n",
       "running_time         int64\n",
       "views                int64\n",
       "likes                int64\n",
       "avg_rating         float64\n",
       "half_star            int64\n",
       "one_star             int64\n",
       "one_half_star        int64\n",
       "two_star             int64\n",
       "two_half_star        int64\n",
       "three_star           int64\n",
       "three_half_star      int64\n",
       "four_star            int64\n",
       "four_half_star       int64\n",
       "five_star            int64\n",
       "genre               object\n",
       "year_isna             bool\n",
       "animation            int64\n",
       "horror               int64\n",
       "scifi                int64\n",
       "thriller             int64\n",
       "war                  int64\n",
       "dtype: object"
      ]
     },
     "execution_count": 108,
     "metadata": {},
     "output_type": "execute_result"
    }
   ],
   "source": [
    "df.dtypes"
   ]
  },
  {
   "cell_type": "code",
   "execution_count": 6,
   "metadata": {},
   "outputs": [
    {
     "name": "stdout",
     "output_type": "stream",
     "text": [
      "                          title    year            director  running_time  \\\n",
      "761    Potato Salad: Don't Ask!  2015.0  Michael David Pate            81   \n",
      "16432      Dragonball Evolution  2009.0          James Wong            85   \n",
      "28843      Dragonball Evolution  2009.0          James Wong            85   \n",
      "39618                Foodfight!  2012.0   Lawrence Kasanoff            87   \n",
      "\n",
      "       views  likes  avg_rating  half_star  one_star  one_half_star  two_star  \\\n",
      "761     1296     18         0.9        770       148             41        24   \n",
      "16432  25282    350         0.9       9251      3144            831       722   \n",
      "28843  25297    349         0.9       9259      3144            831       722   \n",
      "39618   6828    437         0.9       3533       608            101        65   \n",
      "\n",
      "       two_half_star  three_star  three_half_star  four_star  four_half_star  \\\n",
      "761               11           6                3          4               0   \n",
      "16432            241         211               43         44               6   \n",
      "28843            241         211               43         44               6   \n",
      "39618             38          26               19         25              11   \n",
      "\n",
      "       five_star      genre  year_isna  animation  horror  scifi  thriller  \\\n",
      "761           12     horror      False          0       1      0         0   \n",
      "16432         72      scifi      False          0       0      1         0   \n",
      "28843         71   thriller      False          0       0      0         1   \n",
      "39618        184  animation      False          1       0      0         0   \n",
      "\n",
      "       war  \n",
      "761      0  \n",
      "16432    0  \n",
      "28843    0  \n",
      "39618    0  \n"
     ]
    }
   ],
   "source": [
    "print(df[df['avg_rating'] == df['avg_rating'].min()])"
   ]
  },
  {
   "cell_type": "code",
   "execution_count": null,
   "metadata": {},
   "outputs": [],
   "source": [
    "# even the lowest rated films had a good number of five star ratings, indicating that these films may instead be more \"controversial\""
   ]
  },
  {
   "cell_type": "code",
   "execution_count": 8,
   "metadata": {},
   "outputs": [
    {
     "name": "stdout",
     "output_type": "stream",
     "text": [
      "              title    year             director  running_time   views  \\\n",
      "16879      Parasite  2019.0         Bong Joon-ho           133  539266   \n",
      "39651  Cowboy Bebop  1998.0  Shinichiro Watanabe           625    7527   \n",
      "\n",
      "        likes  avg_rating  half_star  one_star  one_half_star  two_star  \\\n",
      "16879  283450         4.6        308       427            289      1266   \n",
      "39651    3531         4.6         15         9              5        10   \n",
      "\n",
      "       two_half_star  three_star  three_half_star  four_star  four_half_star  \\\n",
      "16879           1640        8667            14524      69003           90025   \n",
      "39651             13          99              153        655             884   \n",
      "\n",
      "       five_star      genre  year_isna  animation  horror  scifi  thriller  \\\n",
      "16879     243931   thriller      False          0       0      0         1   \n",
      "39651       3039  animation      False          1       0      0         0   \n",
      "\n",
      "       war  \n",
      "16879    0  \n",
      "39651    0  \n"
     ]
    }
   ],
   "source": [
    "print(df[df['avg_rating'] == df['avg_rating'].max()])"
   ]
  },
  {
   "cell_type": "code",
   "execution_count": null,
   "metadata": {},
   "outputs": [],
   "source": [
    "# distribution of ratings are more gradual and \"normal\" for the highest rated films "
   ]
  },
  {
   "cell_type": "code",
   "execution_count": null,
   "metadata": {
    "scrolled": false
   },
   "outputs": [
    {
     "data": {
      "text/plain": [
       "<seaborn.axisgrid.PairGrid at 0x283fb6400>"
      ]
     },
     "execution_count": 231,
     "metadata": {},
     "output_type": "execute_result"
    }
   ],
   "source": [
    "features_cols = ['year', 'running_time', 'views', 'likes', 'half_star', 'one_half_star', 'two_star', 'two_half_star', 'three_star', 'three_half_star', 'four_star', 'four_half_star', 'five_star', 'animation', 'horror', 'scifi', 'thriller', 'war']\n",
    "features = df[features_cols]\n",
    "sns.pairplot(features)"
   ]
  },
  {
   "cell_type": "code",
   "execution_count": 9,
   "metadata": {},
   "outputs": [],
   "source": [
    "# likes feature model training"
   ]
  },
  {
   "cell_type": "code",
   "execution_count": 96,
   "metadata": {},
   "outputs": [],
   "source": [
    "model = LinearRegression()\n",
    "X = df['likes']\n",
    "y = df['avg_rating']\n",
    "X_train_true, X_test_true, y_train_true, y_test_true = train_test_split(X, y, test_size = 0.3, random_state=42)"
   ]
  },
  {
   "cell_type": "code",
   "execution_count": 100,
   "metadata": {},
   "outputs": [],
   "source": [
    "X_train_true = X_train_true.values.reshape(-1,1)\n",
    "y_train_true = y_train_true.values.reshape(-1,1)\n",
    "X_test_true = X_test_true.values.reshape(-1,1)"
   ]
  },
  {
   "cell_type": "code",
   "execution_count": 101,
   "metadata": {},
   "outputs": [
    {
     "data": {
      "text/plain": [
       "LinearRegression()"
      ]
     },
     "execution_count": 101,
     "metadata": {},
     "output_type": "execute_result"
    }
   ],
   "source": [
    "model.fit(X_train_true, y_train_true)\n",
    "y_test_pred = model.predict(X_test_true)\n",
    "model.score(X_train_true, y_train_true)"
   ]
  },
  {
   "cell_type": "code",
   "execution_count": 104,
   "metadata": {},
   "outputs": [
    {
     "data": {
      "text/plain": [
       "0.038840106301076927"
      ]
     },
     "execution_count": 104,
     "metadata": {},
     "output_type": "execute_result"
    }
   ],
   "source": [
    "model.score(X_test_true, y_test_true)"
   ]
  },
  {
   "cell_type": "code",
   "execution_count": 40,
   "metadata": {
    "scrolled": true
   },
   "outputs": [
    {
     "data": {
      "text/plain": [
       "array([[9.99113996e-06]])"
      ]
     },
     "execution_count": 40,
     "metadata": {},
     "output_type": "execute_result"
    }
   ],
   "source": [
    "# predictive power for this feature\n",
    "model.coef_"
   ]
  },
  {
   "cell_type": "code",
   "execution_count": 20,
   "metadata": {},
   "outputs": [],
   "source": [
    "# pd.Series(y_test_pred).unique()"
   ]
  },
  {
   "cell_type": "code",
   "execution_count": 106,
   "metadata": {
    "scrolled": true
   },
   "outputs": [
    {
     "data": {
      "text/plain": [
       "0.4675207942245636"
      ]
     },
     "execution_count": 106,
     "metadata": {},
     "output_type": "execute_result"
    }
   ],
   "source": [
    "rmse = np.sqrt(mean_squared_error(y_test_true, y_test_pred))\n",
    "rmse"
   ]
  },
  {
   "cell_type": "code",
   "execution_count": 53,
   "metadata": {},
   "outputs": [],
   "source": [
    "# y_error = y_test_pred - y_test_true \n",
    "# y_error"
   ]
  },
  {
   "cell_type": "code",
   "execution_count": 54,
   "metadata": {},
   "outputs": [],
   "source": [
    "# standard_error = ((y_error**2).mean())**0.5\n",
    "# standard_error"
   ]
  },
  {
   "cell_type": "code",
   "execution_count": 57,
   "metadata": {},
   "outputs": [
    {
     "data": {
      "image/png": "[encoded data removed]",
      "text/plain": [
       "<Figure size 432x288 with 1 Axes>"
      ]
     },
     "metadata": {
      "needs_background": "light"
     },
     "output_type": "display_data"
    }
   ],
   "source": [
    "plt.plot(X_test_true, y_test_pred, color='green',linewidth=1)\n",
    "plt.show()"
   ]
  },
  {
   "cell_type": "code",
   "execution_count": 58,
   "metadata": {
    "scrolled": true
   },
   "outputs": [
    {
     "data": {
      "text/plain": [
       "<AxesSubplot:xlabel='likes', ylabel='avg_rating'>"
      ]
     },
     "execution_count": 58,
     "metadata": {},
     "output_type": "execute_result"
    },
    {
     "data": {
      "image/png": "[encoded data removed]",
      "text/plain": [
       "<Figure size 432x288 with 1 Axes>"
      ]
     },
     "metadata": {
      "needs_background": "light"
     },
     "output_type": "display_data"
    }
   ],
   "source": [
    "sns.regplot(x=\"likes\", y=\"avg_rating\", data=df)"
   ]
  },
  {
   "cell_type": "code",
   "execution_count": null,
   "metadata": {},
   "outputs": [],
   "source": [
    "#views"
   ]
  },
  {
   "cell_type": "code",
   "execution_count": 109,
   "metadata": {},
   "outputs": [],
   "source": [
    "X = df['views']\n",
    "y = df['avg_rating']\n",
    "X_train_true, X_test_true, y_train_true, y_test_true = train_test_split(X, y, test_size = 0.3, random_state=42)\n",
    "X_train_true = X_train_true.values.reshape(-1,1)\n",
    "y_train_true = y_train_true.values.reshape(-1,1)\n",
    "X_test_true = X_test_true.values.reshape(-1,1)\n",
    "model = LinearRegression()\n",
    "model.fit(X_train_true, y_train_true)\n",
    "y_test_pred = model.predict(X_test_true)"
   ]
  },
  {
   "cell_type": "code",
   "execution_count": 110,
   "metadata": {},
   "outputs": [
    {
     "data": {
      "text/plain": [
       "0.027906168426007127"
      ]
     },
     "execution_count": 110,
     "metadata": {},
     "output_type": "execute_result"
    }
   ],
   "source": [
    "model.score(X_train_true, y_train_true)"
   ]
  },
  {
   "cell_type": "code",
   "execution_count": 111,
   "metadata": {},
   "outputs": [
    {
     "data": {
      "text/plain": [
       "0.027246750952217735"
      ]
     },
     "execution_count": 111,
     "metadata": {},
     "output_type": "execute_result"
    }
   ],
   "source": [
    "model.score(X_test_true, y_test_true)"
   ]
  },
  {
   "cell_type": "code",
   "execution_count": 74,
   "metadata": {},
   "outputs": [
    {
     "data": {
      "text/plain": [
       "0.47033192293075016"
      ]
     },
     "execution_count": 74,
     "metadata": {},
     "output_type": "execute_result"
    }
   ],
   "source": [
    "rmse = np.sqrt(mean_squared_error(y_test_true, y_test_pred))\n",
    "rmse"
   ]
  },
  {
   "cell_type": "code",
   "execution_count": 75,
   "metadata": {},
   "outputs": [
    {
     "data": {
      "text/plain": [
       "<AxesSubplot:xlabel='views', ylabel='avg_rating'>"
      ]
     },
     "execution_count": 75,
     "metadata": {},
     "output_type": "execute_result"
    },
    {
     "data": {
      "image/png": "[encoded data removed]",
      "text/plain": [
       "<Figure size 432x288 with 1 Axes>"
      ]
     },
     "metadata": {
      "needs_background": "light"
     },
     "output_type": "display_data"
    }
   ],
   "source": [
    "sns.regplot(x=X, y=y, data=df)"
   ]
  },
  {
   "cell_type": "code",
   "execution_count": null,
   "metadata": {},
   "outputs": [],
   "source": [
    "#running time"
   ]
  },
  {
   "cell_type": "code",
   "execution_count": 112,
   "metadata": {},
   "outputs": [],
   "source": [
    "X = df['running_time']\n",
    "y = df['avg_rating']\n",
    "X_train_true, X_test_true, y_train_true, y_test_true = train_test_split(X, y, test_size = 0.3, random_state=42)\n",
    "X_train_true = X_train_true.values.reshape(-1,1)\n",
    "y_train_true = y_train_true.values.reshape(-1,1)\n",
    "X_test_true = X_test_true.values.reshape(-1,1)\n",
    "model = LinearRegression()\n",
    "model.fit(X_train_true, y_train_true)\n",
    "y_test_pred = model.predict(X_test_true)"
   ]
  },
  {
   "cell_type": "code",
   "execution_count": 113,
   "metadata": {},
   "outputs": [
    {
     "data": {
      "text/plain": [
       "0.009326616915135144"
      ]
     },
     "execution_count": 113,
     "metadata": {},
     "output_type": "execute_result"
    }
   ],
   "source": [
    "model.score(X_train_true, y_train_true)"
   ]
  },
  {
   "cell_type": "code",
   "execution_count": 114,
   "metadata": {},
   "outputs": [
    {
     "data": {
      "text/plain": [
       "0.013386327785223529"
      ]
     },
     "execution_count": 114,
     "metadata": {},
     "output_type": "execute_result"
    }
   ],
   "source": [
    "model.score(X_test_true, y_test_true)"
   ]
  },
  {
   "cell_type": "code",
   "execution_count": 115,
   "metadata": {},
   "outputs": [
    {
     "data": {
      "text/plain": [
       "0.4736708692297187"
      ]
     },
     "execution_count": 115,
     "metadata": {},
     "output_type": "execute_result"
    }
   ],
   "source": [
    "rmse = np.sqrt(mean_squared_error(y_test_true, y_test_pred))\n",
    "rmse"
   ]
  },
  {
   "cell_type": "code",
   "execution_count": 79,
   "metadata": {
    "scrolled": true
   },
   "outputs": [
    {
     "data": {
      "text/plain": [
       "<AxesSubplot:xlabel='running_time', ylabel='avg_rating'>"
      ]
     },
     "execution_count": 79,
     "metadata": {},
     "output_type": "execute_result"
    },
    {
     "data": {
      "image/png": "[encoded data removed]",
      "text/plain": [
       "<Figure size 432x288 with 1 Axes>"
      ]
     },
     "metadata": {
      "needs_background": "light"
     },
     "output_type": "display_data"
    }
   ],
   "source": [
    "sns.regplot(x=X, y=y, data=df)"
   ]
  },
  {
   "cell_type": "code",
   "execution_count": null,
   "metadata": {},
   "outputs": [],
   "source": [
    "#half star"
   ]
  },
  {
   "cell_type": "code",
   "execution_count": 190,
   "metadata": {},
   "outputs": [],
   "source": [
    "X = df['running_time']\n",
    "y = df['avg_rating']\n",
    "X_train_true, X_test_true, y_train_true, y_test_true = train_test_split(X, y, test_size = 0.3, random_state=42)\n",
    "X_train_true = X_train_true.values.reshape(-1,1)\n",
    "y_train_true = y_train_true.values.reshape(-1,1)\n",
    "X_test_true = X_test_true.values.reshape(-1,1)\n",
    "model = LinearRegression()\n",
    "model.fit(X_train_true, y_train_true)\n",
    "y_test_pred = model.predict(X_test_true)"
   ]
  },
  {
   "cell_type": "code",
   "execution_count": 191,
   "metadata": {},
   "outputs": [
    {
     "data": {
      "text/plain": [
       "0.009326616915135144"
      ]
     },
     "execution_count": 191,
     "metadata": {},
     "output_type": "execute_result"
    }
   ],
   "source": [
    "model.score(X_train_true, y_train_true)"
   ]
  },
  {
   "cell_type": "code",
   "execution_count": 192,
   "metadata": {},
   "outputs": [
    {
     "data": {
      "text/plain": [
       "0.013386327785223529"
      ]
     },
     "execution_count": 192,
     "metadata": {},
     "output_type": "execute_result"
    }
   ],
   "source": [
    "model.score(X_test_true, y_test_true)"
   ]
  },
  {
   "cell_type": "code",
   "execution_count": 193,
   "metadata": {},
   "outputs": [
    {
     "data": {
      "text/plain": [
       "0.4736708692297187"
      ]
     },
     "execution_count": 193,
     "metadata": {},
     "output_type": "execute_result"
    }
   ],
   "source": [
    "rmse = np.sqrt(mean_squared_error(y_test_true, y_test_pred))\n",
    "rmse"
   ]
  },
  {
   "cell_type": "code",
   "execution_count": 194,
   "metadata": {},
   "outputs": [
    {
     "data": {
      "text/plain": [
       "<AxesSubplot:xlabel='running_time', ylabel='avg_rating'>"
      ]
     },
     "execution_count": 194,
     "metadata": {},
     "output_type": "execute_result"
    },
    {
     "data": {
      "image/png": "[encoded data removed]",
      "text/plain": [
       "<Figure size 432x288 with 1 Axes>"
      ]
     },
     "metadata": {
      "needs_background": "light"
     },
     "output_type": "display_data"
    }
   ],
   "source": [
    "sns.regplot(x=X, y=y, data=df)"
   ]
  },
  {
   "cell_type": "code",
   "execution_count": 108,
   "metadata": {},
   "outputs": [],
   "source": [
    "#likes and views"
   ]
  },
  {
   "cell_type": "code",
   "execution_count": 116,
   "metadata": {},
   "outputs": [],
   "source": [
    "X = np.asarray(df[['views', 'likes']])\n",
    "y = np.asarray(df['avg_rating'])\n",
    "X_train_true, X_test_true, y_train_true, y_test_true = train_test_split(X, y, test_size = 0.3, random_state=42)\n",
    "model.fit(X_train_true, y_train_true)\n",
    "model.score(X_train_true, y_train_true)"
   ]
  },
  {
   "cell_type": "code",
   "execution_count": 121,
   "metadata": {},
   "outputs": [
    {
     "data": {
      "text/plain": [
       "0.041397519544677075"
      ]
     },
     "execution_count": 121,
     "metadata": {},
     "output_type": "execute_result"
    }
   ],
   "source": [
    "model.score(X_test_true, y_test_true)"
   ]
  },
  {
   "cell_type": "code",
   "execution_count": 64,
   "metadata": {},
   "outputs": [],
   "source": [
    "y_test_pred = model.predict(X_test_true)"
   ]
  },
  {
   "cell_type": "code",
   "execution_count": 65,
   "metadata": {},
   "outputs": [
    {
     "data": {
      "text/plain": [
       "0.4668984002461756"
      ]
     },
     "execution_count": 65,
     "metadata": {},
     "output_type": "execute_result"
    }
   ],
   "source": [
    "rmse = np.sqrt(mean_squared_error(y_test_true, y_test_pred))\n",
    "rmse"
   ]
  },
  {
   "cell_type": "code",
   "execution_count": 52,
   "metadata": {},
   "outputs": [],
   "source": [
    "#likes, views and running time"
   ]
  },
  {
   "cell_type": "code",
   "execution_count": 122,
   "metadata": {},
   "outputs": [],
   "source": [
    "X = np.asarray(df[['views', 'likes', 'running_time' ]])\n",
    "y = np.asarray(df['avg_rating'])\n",
    "X_train_true, X_test_true, y_train_true, y_test_true = train_test_split(X, y, test_size = 0.3, random_state=42)\n",
    "model.fit(X_train_true, y_train_true)\n",
    "model.score(X_train_true, y_train_true)"
   ]
  },
  {
   "cell_type": "code",
   "execution_count": 126,
   "metadata": {},
   "outputs": [
    {
     "data": {
      "text/plain": [
       "0.059547456008833155"
      ]
     },
     "execution_count": 126,
     "metadata": {},
     "output_type": "execute_result"
    }
   ],
   "source": [
    "model.score(X_test_true, y_test_true)"
   ]
  },
  {
   "cell_type": "code",
   "execution_count": 126,
   "metadata": {},
   "outputs": [],
   "source": [
    "y_test_pred = model.predict(X_test_true)"
   ]
  },
  {
   "cell_type": "code",
   "execution_count": 127,
   "metadata": {},
   "outputs": [
    {
     "data": {
      "text/plain": [
       "0.4624572096906384"
      ]
     },
     "execution_count": 127,
     "metadata": {},
     "output_type": "execute_result"
    }
   ],
   "source": [
    "rmse = np.sqrt(mean_squared_error(y_test_true, y_test_pred))\n",
    "rmse"
   ]
  },
  {
   "cell_type": "code",
   "execution_count": null,
   "metadata": {},
   "outputs": [],
   "source": [
    "# likes, views, running time, five star"
   ]
  },
  {
   "cell_type": "code",
   "execution_count": 127,
   "metadata": {},
   "outputs": [],
   "source": [
    "X = np.asarray(df[['views', 'likes', 'running_time', 'five_star' ]])\n",
    "X_train_true, X_test_true, y_train_true, y_test_true = train_test_split(X, y, test_size = 0.3, random_state=42)\n",
    "model.fit(X_train_true, y_train_true)\n",
    "model.score(X_train_true, y_train_true)"
   ]
  },
  {
   "cell_type": "code",
   "execution_count": 12,
   "metadata": {},
   "outputs": [
    {
     "data": {
      "text/plain": [
       "0.05776980324986636"
      ]
     },
     "execution_count": 12,
     "metadata": {},
     "output_type": "execute_result"
    }
   ],
   "source": [
    "model.score(X_test_true, y_test_true)"
   ]
  },
  {
   "cell_type": "code",
   "execution_count": 13,
   "metadata": {},
   "outputs": [],
   "source": [
    "y_test_pred = model.predict(X_test_true)"
   ]
  },
  {
   "cell_type": "code",
   "execution_count": 14,
   "metadata": {},
   "outputs": [
    {
     "data": {
      "text/plain": [
       "0.46289407395709914"
      ]
     },
     "execution_count": 14,
     "metadata": {},
     "output_type": "execute_result"
    }
   ],
   "source": [
    "rmse = np.sqrt(mean_squared_error(y_test_true, y_test_pred))\n",
    "rmse"
   ]
  },
  {
   "cell_type": "code",
   "execution_count": null,
   "metadata": {},
   "outputs": [],
   "source": [
    "#accuracy went down when five stars was added "
   ]
  },
  {
   "cell_type": "code",
   "execution_count": null,
   "metadata": {},
   "outputs": [],
   "source": [
    "# views, likes, running time and year"
   ]
  },
  {
   "cell_type": "code",
   "execution_count": 131,
   "metadata": {},
   "outputs": [],
   "source": [
    "X = np.asarray(df[['views', 'likes', 'running_time', 'year' ]])\n",
    "X_train_true, X_test_true, y_train_true, y_test_true = train_test_split(X, y, test_size = 0.3, random_state=42)\n",
    "model.fit(X_train_true, y_train_true)\n",
    "model.score(X_train_true, y_train_true)"
   ]
  },
  {
   "cell_type": "code",
   "execution_count": 18,
   "metadata": {},
   "outputs": [
    {
     "data": {
      "text/plain": [
       "0.06459048572202886"
      ]
     },
     "execution_count": 18,
     "metadata": {},
     "output_type": "execute_result"
    }
   ],
   "source": [
    "model.score(X_test_true, y_test_true)"
   ]
  },
  {
   "cell_type": "code",
   "execution_count": 19,
   "metadata": {},
   "outputs": [],
   "source": [
    "y_test_pred = model.predict(X_test_true)"
   ]
  },
  {
   "cell_type": "code",
   "execution_count": 20,
   "metadata": {},
   "outputs": [
    {
     "data": {
      "text/plain": [
       "0.4612156157525429"
      ]
     },
     "execution_count": 20,
     "metadata": {},
     "output_type": "execute_result"
    }
   ],
   "source": [
    "rmse = np.sqrt(mean_squared_error(y_test_true, y_test_pred))\n",
    "rmse"
   ]
  },
  {
   "cell_type": "code",
   "execution_count": null,
   "metadata": {},
   "outputs": [],
   "source": [
    "#just genres"
   ]
  },
  {
   "cell_type": "code",
   "execution_count": 195,
   "metadata": {},
   "outputs": [],
   "source": [
    "X = np.asarray(df[['animation', 'thriller', 'horror', 'scifi', 'war' ]])"
   ]
  },
  {
   "cell_type": "code",
   "execution_count": 196,
   "metadata": {},
   "outputs": [],
   "source": [
    "X_train_true, X_test_true, y_train_true, y_test_true = train_test_split(X, y, test_size = 0.3, random_state=42)"
   ]
  },
  {
   "cell_type": "code",
   "execution_count": 197,
   "metadata": {},
   "outputs": [
    {
     "data": {
      "text/plain": [
       "LinearRegression()"
      ]
     },
     "execution_count": 197,
     "metadata": {},
     "output_type": "execute_result"
    }
   ],
   "source": [
    "model.fit(X_train_true, y_train_true)"
   ]
  },
  {
   "cell_type": "code",
   "execution_count": 198,
   "metadata": {},
   "outputs": [
    {
     "data": {
      "text/plain": [
       "0.11495683907133514"
      ]
     },
     "execution_count": 198,
     "metadata": {},
     "output_type": "execute_result"
    }
   ],
   "source": [
    "model.score(X_train_true, y_train_true)"
   ]
  },
  {
   "cell_type": "code",
   "execution_count": 199,
   "metadata": {},
   "outputs": [
    {
     "data": {
      "text/plain": [
       "0.11453411615342024"
      ]
     },
     "execution_count": 199,
     "metadata": {},
     "output_type": "execute_result"
    }
   ],
   "source": [
    "model.score(X_test_true, y_test_true)"
   ]
  },
  {
   "cell_type": "code",
   "execution_count": 200,
   "metadata": {},
   "outputs": [],
   "source": [
    "y_test_pred = model.predict(X_test_true)"
   ]
  },
  {
   "cell_type": "code",
   "execution_count": 201,
   "metadata": {},
   "outputs": [
    {
     "data": {
      "text/plain": [
       "0.44873405312056375"
      ]
     },
     "execution_count": 201,
     "metadata": {},
     "output_type": "execute_result"
    }
   ],
   "source": [
    "rmse = np.sqrt(mean_squared_error(y_test_true, y_test_pred))\n",
    "rmse"
   ]
  },
  {
   "cell_type": "code",
   "execution_count": null,
   "metadata": {},
   "outputs": [],
   "source": [
    "#lower rmse for just genres than other features"
   ]
  },
  {
   "cell_type": "code",
   "execution_count": null,
   "metadata": {},
   "outputs": [],
   "source": [
    "# genres, views, likes, running_time and year"
   ]
  },
  {
   "cell_type": "code",
   "execution_count": 139,
   "metadata": {},
   "outputs": [],
   "source": [
    "X = np.asarray(df[['views', 'likes', 'running_time', 'year', 'animation', 'thriller', 'horror', 'scifi', 'war' ]])"
   ]
  },
  {
   "cell_type": "code",
   "execution_count": 140,
   "metadata": {},
   "outputs": [],
   "source": [
    "X_train_true, X_test_true, y_train_true, y_test_true = train_test_split(X, y, test_size = 0.3, random_state=42)"
   ]
  },
  {
   "cell_type": "code",
   "execution_count": 141,
   "metadata": {},
   "outputs": [
    {
     "data": {
      "text/plain": [
       "LinearRegression()"
      ]
     },
     "execution_count": 141,
     "metadata": {},
     "output_type": "execute_result"
    }
   ],
   "source": [
    "model.fit(X_train_true, y_train_true)"
   ]
  },
  {
   "cell_type": "code",
   "execution_count": 142,
   "metadata": {},
   "outputs": [
    {
     "data": {
      "text/plain": [
       "0.16560577245597152"
      ]
     },
     "execution_count": 142,
     "metadata": {},
     "output_type": "execute_result"
    }
   ],
   "source": [
    "model.score(X_train_true, y_train_true)"
   ]
  },
  {
   "cell_type": "code",
   "execution_count": 30,
   "metadata": {},
   "outputs": [
    {
     "data": {
      "text/plain": [
       "0.1607851165196078"
      ]
     },
     "execution_count": 30,
     "metadata": {},
     "output_type": "execute_result"
    }
   ],
   "source": [
    "model.score(X_test_true, y_test_true)"
   ]
  },
  {
   "cell_type": "code",
   "execution_count": 31,
   "metadata": {},
   "outputs": [],
   "source": [
    "y_test_pred = model.predict(X_test_true)"
   ]
  },
  {
   "cell_type": "code",
   "execution_count": 32,
   "metadata": {},
   "outputs": [
    {
     "data": {
      "text/plain": [
       "0.4368574037383542"
      ]
     },
     "execution_count": 32,
     "metadata": {},
     "output_type": "execute_result"
    }
   ],
   "source": [
    "rmse = np.sqrt(mean_squared_error(y_test_true, y_test_pred))\n",
    "rmse"
   ]
  },
  {
   "cell_type": "code",
   "execution_count": null,
   "metadata": {},
   "outputs": [],
   "source": [
    "sns.regplot(x=X, y=y, data=df)"
   ]
  },
  {
   "cell_type": "code",
   "execution_count": null,
   "metadata": {},
   "outputs": [],
   "source": [
    "# lowest thus far"
   ]
  },
  {
   "cell_type": "code",
   "execution_count": null,
   "metadata": {},
   "outputs": [],
   "source": [
    "#training with all useful features"
   ]
  },
  {
   "cell_type": "code",
   "execution_count": 143,
   "metadata": {},
   "outputs": [],
   "source": [
    "features_cols = ['year', 'running_time', 'views', 'likes', 'half_star', 'one_half_star', 'two_star', 'two_half_star', 'three_star', 'three_half_star', 'four_star', 'four_half_star', 'five_star', 'animation', 'horror', 'scifi', 'thriller', 'war']\n",
    "features = df[features_cols]\n",
    "X = features\n",
    "y = df['avg_rating']"
   ]
  },
  {
   "cell_type": "code",
   "execution_count": 144,
   "metadata": {},
   "outputs": [
    {
     "data": {
      "text/plain": [
       "0.21808364811939562"
      ]
     },
     "execution_count": 144,
     "metadata": {},
     "output_type": "execute_result"
    }
   ],
   "source": [
    "X_train_true, X_test_true, y_train_true, y_test_true = train_test_split(X, y, test_size = 0.3, random_state=42)\n",
    "model = LinearRegression()\n",
    "model.fit(X_train_true, y_train_true)\n",
    "model.score(X_test_true, y_test_true)"
   ]
  },
  {
   "cell_type": "code",
   "execution_count": 145,
   "metadata": {},
   "outputs": [
    {
     "data": {
      "text/plain": [
       "0.2479449544187574"
      ]
     },
     "execution_count": 145,
     "metadata": {},
     "output_type": "execute_result"
    }
   ],
   "source": [
    "model.score(X_train_true, y_train_true)"
   ]
  },
  {
   "cell_type": "code",
   "execution_count": 86,
   "metadata": {},
   "outputs": [],
   "source": [
    "y_test_pred = model.predict(X_test_true)"
   ]
  },
  {
   "cell_type": "code",
   "execution_count": 87,
   "metadata": {},
   "outputs": [
    {
     "data": {
      "text/plain": [
       "0.42168024874966004"
      ]
     },
     "execution_count": 87,
     "metadata": {},
     "output_type": "execute_result"
    }
   ],
   "source": [
    "rmse = np.sqrt(mean_squared_error(y_test_true, y_test_pred))\n",
    "rmse"
   ]
  },
  {
   "cell_type": "code",
   "execution_count": null,
   "metadata": {},
   "outputs": [],
   "source": [
    "#lowest thus far"
   ]
  },
  {
   "cell_type": "code",
   "execution_count": null,
   "metadata": {},
   "outputs": [],
   "source": [
    "# lasso regression with smaller selection of features"
   ]
  },
  {
   "cell_type": "code",
   "execution_count": 146,
   "metadata": {},
   "outputs": [],
   "source": [
    "from sklearn.linear_model import Lasso\n",
    "lasso = Lasso(alpha=0.1)"
   ]
  },
  {
   "cell_type": "code",
   "execution_count": 147,
   "metadata": {},
   "outputs": [],
   "source": [
    "X = np.asarray(df[['views', 'likes', 'running_time', 'year', 'animation', 'thriller', 'horror', 'scifi', 'war' ]])"
   ]
  },
  {
   "cell_type": "code",
   "execution_count": 148,
   "metadata": {},
   "outputs": [],
   "source": [
    "X_train_true, X_test_true, y_train_true, y_test_true = train_test_split(X, y, test_size = 0.3, random_state=42)"
   ]
  },
  {
   "cell_type": "code",
   "execution_count": 149,
   "metadata": {},
   "outputs": [
    {
     "data": {
      "text/plain": [
       "Lasso(alpha=0.1)"
      ]
     },
     "execution_count": 149,
     "metadata": {},
     "output_type": "execute_result"
    }
   ],
   "source": [
    "lasso.fit(X_train_true, y_train_true)"
   ]
  },
  {
   "cell_type": "code",
   "execution_count": 150,
   "metadata": {},
   "outputs": [
    {
     "data": {
      "text/plain": [
       "0.06822715789885336"
      ]
     },
     "execution_count": 150,
     "metadata": {},
     "output_type": "execute_result"
    }
   ],
   "source": [
    "lasso.score(X_train_true, y_train_true)"
   ]
  },
  {
   "cell_type": "code",
   "execution_count": 40,
   "metadata": {},
   "outputs": [
    {
     "data": {
      "text/plain": [
       "0.06478271882874875"
      ]
     },
     "execution_count": 40,
     "metadata": {},
     "output_type": "execute_result"
    }
   ],
   "source": [
    "lasso.score(X_test_true, y_test_true)"
   ]
  },
  {
   "cell_type": "code",
   "execution_count": 41,
   "metadata": {},
   "outputs": [],
   "source": [
    "y_test_pred = lasso.predict(X_test_true)"
   ]
  },
  {
   "cell_type": "code",
   "execution_count": 42,
   "metadata": {},
   "outputs": [
    {
     "data": {
      "text/plain": [
       "0.4611682218224482"
      ]
     },
     "execution_count": 42,
     "metadata": {},
     "output_type": "execute_result"
    }
   ],
   "source": [
    "rmse = np.sqrt(mean_squared_error(y_test_true, y_test_pred))\n",
    "rmse"
   ]
  },
  {
   "cell_type": "code",
   "execution_count": null,
   "metadata": {},
   "outputs": [],
   "source": [
    "#less accurate than linear regression"
   ]
  },
  {
   "cell_type": "code",
   "execution_count": null,
   "metadata": {},
   "outputs": [],
   "source": [
    "#lasso regression with all continuous features"
   ]
  },
  {
   "cell_type": "code",
   "execution_count": 151,
   "metadata": {},
   "outputs": [],
   "source": [
    "features_cols = ['year', 'running_time', 'views', 'likes', 'half_star', 'one_half_star', 'two_star', 'two_half_star', 'three_star', 'three_half_star', 'four_star', 'four_half_star', 'five_star', 'animation', 'horror', 'scifi', 'thriller', 'war']\n",
    "features = df[features_cols]\n",
    "X = features\n",
    "y = df['avg_rating']"
   ]
  },
  {
   "cell_type": "code",
   "execution_count": 152,
   "metadata": {},
   "outputs": [
    {
     "name": "stderr",
     "output_type": "stream",
     "text": [
      "/opt/anaconda3/lib/python3.8/site-packages/sklearn/linear_model/_coordinate_descent.py:529: ConvergenceWarning: Objective did not converge. You might want to increase the number of iterations. Duality gap: 1616.846371301038, tolerance: 0.6256428119377407\n",
      "  model = cd_fast.enet_coordinate_descent(\n"
     ]
    },
    {
     "data": {
      "text/plain": [
       "0.12895818622841904"
      ]
     },
     "execution_count": 152,
     "metadata": {},
     "output_type": "execute_result"
    }
   ],
   "source": [
    "X_train_true, X_test_true, y_train_true, y_test_true = train_test_split(X, y, test_size = 0.3, random_state=42)\n",
    "model = Lasso(alpha=0.1)\n",
    "model.fit(X_train_true, y_train_true)\n",
    "model.score(X_test_true, y_test_true)"
   ]
  },
  {
   "cell_type": "code",
   "execution_count": 153,
   "metadata": {},
   "outputs": [
    {
     "data": {
      "text/plain": [
       "0.15913805020735006"
      ]
     },
     "execution_count": 153,
     "metadata": {},
     "output_type": "execute_result"
    }
   ],
   "source": [
    "model.score(X_train_true, y_train_true)"
   ]
  },
  {
   "cell_type": "code",
   "execution_count": 94,
   "metadata": {},
   "outputs": [],
   "source": [
    "y_test_pred = model.predict(X_test_true)"
   ]
  },
  {
   "cell_type": "code",
   "execution_count": 95,
   "metadata": {},
   "outputs": [
    {
     "data": {
      "text/plain": [
       "0.44506415025455515"
      ]
     },
     "execution_count": 95,
     "metadata": {},
     "output_type": "execute_result"
    }
   ],
   "source": [
    "rmse = np.sqrt(mean_squared_error(y_test_true, y_test_pred))\n",
    "rmse"
   ]
  },
  {
   "cell_type": "code",
   "execution_count": null,
   "metadata": {},
   "outputs": [],
   "source": [
    "#less accurate than linear with all features"
   ]
  },
  {
   "cell_type": "code",
   "execution_count": null,
   "metadata": {},
   "outputs": [],
   "source": [
    "#ridge regression with selection of features"
   ]
  },
  {
   "cell_type": "code",
   "execution_count": 154,
   "metadata": {},
   "outputs": [],
   "source": [
    "from sklearn.linear_model import Ridge\n",
    "ridge = Ridge()"
   ]
  },
  {
   "cell_type": "code",
   "execution_count": 155,
   "metadata": {},
   "outputs": [],
   "source": [
    "X = np.asarray(df[['views', 'likes', 'running_time', 'year', 'animation', 'thriller', 'horror', 'scifi', 'war' ]])"
   ]
  },
  {
   "cell_type": "code",
   "execution_count": 156,
   "metadata": {},
   "outputs": [],
   "source": [
    "X_train_true, X_test_true, y_train_true, y_test_true = train_test_split(X, y, test_size = 0.3, random_state=42)"
   ]
  },
  {
   "cell_type": "code",
   "execution_count": 157,
   "metadata": {},
   "outputs": [
    {
     "data": {
      "text/plain": [
       "Ridge()"
      ]
     },
     "execution_count": 157,
     "metadata": {},
     "output_type": "execute_result"
    }
   ],
   "source": [
    "ridge.fit(X_train_true, y_train_true)"
   ]
  },
  {
   "cell_type": "code",
   "execution_count": 158,
   "metadata": {},
   "outputs": [
    {
     "data": {
      "text/plain": [
       "0.16560576369654834"
      ]
     },
     "execution_count": 158,
     "metadata": {},
     "output_type": "execute_result"
    }
   ],
   "source": [
    "ridge.score(X_train_true, y_train_true)"
   ]
  },
  {
   "cell_type": "code",
   "execution_count": 47,
   "metadata": {},
   "outputs": [
    {
     "data": {
      "text/plain": [
       "0.16078486842618134"
      ]
     },
     "execution_count": 47,
     "metadata": {},
     "output_type": "execute_result"
    }
   ],
   "source": [
    "ridge.score(X_test_true, y_test_true)"
   ]
  },
  {
   "cell_type": "code",
   "execution_count": 48,
   "metadata": {},
   "outputs": [],
   "source": [
    "y_test_pred = ridge.predict(X_test_true)"
   ]
  },
  {
   "cell_type": "code",
   "execution_count": 49,
   "metadata": {},
   "outputs": [
    {
     "data": {
      "text/plain": [
       "0.43685746831147143"
      ]
     },
     "execution_count": 49,
     "metadata": {},
     "output_type": "execute_result"
    }
   ],
   "source": [
    "rmse = np.sqrt(mean_squared_error(y_test_true, y_test_pred))\n",
    "rmse"
   ]
  },
  {
   "cell_type": "code",
   "execution_count": null,
   "metadata": {},
   "outputs": [],
   "source": [
    "sns.regplot(x=X, y=y, data=df)"
   ]
  },
  {
   "cell_type": "code",
   "execution_count": null,
   "metadata": {},
   "outputs": [],
   "source": [
    "#very close to linear in accuracy, need further evaluation "
   ]
  },
  {
   "cell_type": "code",
   "execution_count": null,
   "metadata": {},
   "outputs": [],
   "source": [
    "#gradient boosting"
   ]
  },
  {
   "cell_type": "code",
   "execution_count": 204,
   "metadata": {},
   "outputs": [],
   "source": [
    "from sklearn.ensemble import GradientBoostingRegressor\n",
    "gb_reg = GradientBoostingRegressor()"
   ]
  },
  {
   "cell_type": "code",
   "execution_count": 205,
   "metadata": {},
   "outputs": [],
   "source": [
    "features_cols = ['year', 'running_time', 'views', 'likes', 'half_star', 'one_half_star', 'two_star', 'two_half_star', 'three_star', 'three_half_star', 'four_star', 'four_half_star', 'five_star', 'animation', 'horror', 'scifi', 'thriller', 'war']\n",
    "features = df[features_cols]\n",
    "X = features\n",
    "y = df['avg_rating']\n",
    "X_train_true, X_test_true, y_train_true, y_test_true = train_test_split(X, y, test_size = 0.3, random_state=42)"
   ]
  },
  {
   "cell_type": "code",
   "execution_count": 206,
   "metadata": {
    "scrolled": true
   },
   "outputs": [
    {
     "data": {
      "text/plain": [
       "GradientBoostingRegressor()"
      ]
     },
     "execution_count": 206,
     "metadata": {},
     "output_type": "execute_result"
    }
   ],
   "source": [
    "gb_reg.fit(X_train_true, y_train_true)"
   ]
  },
  {
   "cell_type": "code",
   "execution_count": 207,
   "metadata": {},
   "outputs": [
    {
     "data": {
      "text/plain": [
       "0.9756766239375657"
      ]
     },
     "execution_count": 207,
     "metadata": {},
     "output_type": "execute_result"
    }
   ],
   "source": [
    "gb_reg.score(X_train_true, y_train_true)"
   ]
  },
  {
   "cell_type": "code",
   "execution_count": 208,
   "metadata": {},
   "outputs": [
    {
     "data": {
      "text/plain": [
       "0.9738081325281653"
      ]
     },
     "execution_count": 208,
     "metadata": {},
     "output_type": "execute_result"
    }
   ],
   "source": [
    "gb_acc = gb_reg.score(X_test_true, y_test_true)\n",
    "gb_acc"
   ]
  },
  {
   "cell_type": "code",
   "execution_count": 209,
   "metadata": {},
   "outputs": [],
   "source": [
    "y_test_pred = gb_reg.predict(X_test_true)"
   ]
  },
  {
   "cell_type": "code",
   "execution_count": 210,
   "metadata": {},
   "outputs": [
    {
     "data": {
      "text/plain": [
       "0.07717672476263028"
      ]
     },
     "execution_count": 210,
     "metadata": {},
     "output_type": "execute_result"
    }
   ],
   "source": [
    "rmse = np.sqrt(mean_squared_error(y_test_true, y_test_pred))\n",
    "rmse"
   ]
  },
  {
   "cell_type": "code",
   "execution_count": 211,
   "metadata": {},
   "outputs": [
    {
     "name": "stdout",
     "output_type": "stream",
     "text": [
      "year               1.530584e-04\n",
      "running_time       1.185120e-04\n",
      "views              1.011432e-03\n",
      "likes              1.335596e-05\n",
      "half_star          3.909322e-01\n",
      "one_half_star      1.041041e-01\n",
      "two_star           2.375407e-02\n",
      "two_half_star      4.451670e-03\n",
      "three_star         1.276937e-03\n",
      "three_half_star    1.410702e-02\n",
      "four_star          4.540507e-02\n",
      "four_half_star     3.540429e-01\n",
      "five_star          6.062959e-02\n",
      "animation          0.000000e+00\n",
      "horror             0.000000e+00\n",
      "scifi              6.026828e-08\n",
      "thriller           0.000000e+00\n",
      "war                0.000000e+00\n",
      "dtype: float64\n"
     ]
    },
    {
     "data": {
      "text/plain": [
       "Text(0.5, 1.0, 'Gradient Boosting feature importance')"
      ]
     },
     "execution_count": 211,
     "metadata": {},
     "output_type": "execute_result"
    },
    {
     "data": {
      "image/png": "[encoded data removed]",
      "text/plain": [
       "<Figure size 432x288 with 1 Axes>"
      ]
     },
     "metadata": {
      "needs_background": "light"
     },
     "output_type": "display_data"
    }
   ],
   "source": [
    "feat_imp = gb_reg.feature_importances_\n",
    "columns = X_train_true.columns\n",
    "gbGraph = pd.Series(feat_imp, columns)\n",
    "print(gbGraph)\n",
    "gbGraph.sort_values().plot.barh(color ='blue')\n",
    "plt.title('Gradient Boosting feature importance')"
   ]
  },
  {
   "cell_type": "code",
   "execution_count": 212,
   "metadata": {},
   "outputs": [],
   "source": [
    "#best model so far! great accuracy of 0.97 on test data"
   ]
  },
  {
   "cell_type": "code",
   "execution_count": 213,
   "metadata": {},
   "outputs": [],
   "source": [
    "#elastic net - why would I do this when both ridge and lasso had low accuracy even compard to linear ?"
   ]
  },
  {
   "cell_type": "code",
   "execution_count": 214,
   "metadata": {},
   "outputs": [
    {
     "name": "stderr",
     "output_type": "stream",
     "text": [
      "/opt/anaconda3/lib/python3.8/site-packages/sklearn/linear_model/_coordinate_descent.py:529: ConvergenceWarning: Objective did not converge. You might want to increase the number of iterations. Duality gap: 288.5714473519529, tolerance: 0.6256428119377407\n",
      "  model = cd_fast.enet_coordinate_descent(\n"
     ]
    },
    {
     "data": {
      "text/plain": [
       "0.15726005489986938"
      ]
     },
     "execution_count": 214,
     "metadata": {},
     "output_type": "execute_result"
    }
   ],
   "source": [
    "from sklearn.linear_model import ElasticNet\n",
    "net = ElasticNet()\n",
    "features_cols = ['year', 'running_time', 'views', 'likes', 'half_star', 'one_half_star', 'two_star', 'two_half_star', 'three_star', 'three_half_star', 'four_star', 'four_half_star', 'five_star', 'animation', 'horror', 'scifi', 'thriller', 'war']\n",
    "features = df[features_cols]\n",
    "X = features\n",
    "y = df['avg_rating']\n",
    "X_train_true, X_test_true, y_train_true, y_test_true = train_test_split(X, y, test_size = 0.3, random_state=42)\n",
    "net.fit(X_train_true, y_train_true)\n",
    "net.score(X_train_true, y_train_true)"
   ]
  },
  {
   "cell_type": "code",
   "execution_count": 215,
   "metadata": {},
   "outputs": [
    {
     "data": {
      "text/plain": [
       "0.12730690973322223"
      ]
     },
     "execution_count": 215,
     "metadata": {},
     "output_type": "execute_result"
    }
   ],
   "source": [
    "net.score(X_test_true, y_test_true)"
   ]
  },
  {
   "cell_type": "code",
   "execution_count": 216,
   "metadata": {},
   "outputs": [
    {
     "data": {
      "text/plain": [
       "0.4454858154263668"
      ]
     },
     "execution_count": 216,
     "metadata": {},
     "output_type": "execute_result"
    }
   ],
   "source": [
    "y_test_pred = net.predict(X_test_true)\n",
    "rmse = np.sqrt(mean_squared_error(y_test_true, y_test_pred))\n",
    "rmse"
   ]
  },
  {
   "cell_type": "code",
   "execution_count": 217,
   "metadata": {},
   "outputs": [],
   "source": [
    "#bad"
   ]
  },
  {
   "cell_type": "code",
   "execution_count": 218,
   "metadata": {},
   "outputs": [],
   "source": [
    "# KNeighbors Regression with all numeric features"
   ]
  },
  {
   "cell_type": "code",
   "execution_count": 219,
   "metadata": {},
   "outputs": [
    {
     "data": {
      "text/plain": [
       "0.9721804843468225"
      ]
     },
     "execution_count": 219,
     "metadata": {},
     "output_type": "execute_result"
    }
   ],
   "source": [
    "from sklearn.neighbors import KNeighborsRegressor\n",
    "kn_reg = KNeighborsRegressor()\n",
    "features_cols = ['year', 'running_time', 'views', 'likes', 'half_star', 'one_half_star', 'two_star', 'two_half_star', 'three_star', 'three_half_star', 'four_star', 'four_half_star', 'five_star', 'animation', 'horror', 'scifi', 'thriller', 'war']\n",
    "features = df[features_cols]\n",
    "X = features\n",
    "y = df['avg_rating']\n",
    "X_train_true, X_test_true, y_train_true, y_test_true = train_test_split(X, y, test_size = 0.3, random_state=42)\n",
    "kn_reg.fit(X_train_true, y_train_true)\n",
    "kn_reg.score(X_train_true, y_train_true)"
   ]
  },
  {
   "cell_type": "code",
   "execution_count": 220,
   "metadata": {},
   "outputs": [
    {
     "data": {
      "text/plain": [
       "0.9561913345643808"
      ]
     },
     "execution_count": 220,
     "metadata": {},
     "output_type": "execute_result"
    }
   ],
   "source": [
    "kn_acc = kn_reg.score(X_test_true, y_test_true)\n",
    "kn_acc"
   ]
  },
  {
   "cell_type": "code",
   "execution_count": 221,
   "metadata": {},
   "outputs": [
    {
     "data": {
      "text/plain": [
       "0.09981208397423476"
      ]
     },
     "execution_count": 221,
     "metadata": {},
     "output_type": "execute_result"
    }
   ],
   "source": [
    "y_test_pred = kn_reg.predict(X_test_true)\n",
    "rmse = np.sqrt(mean_squared_error(y_test_true, y_test_pred))\n",
    "rmse"
   ]
  },
  {
   "cell_type": "code",
   "execution_count": 222,
   "metadata": {},
   "outputs": [],
   "source": [
    "# fairly good score, but now as accurate as gradient boosting"
   ]
  },
  {
   "cell_type": "code",
   "execution_count": 223,
   "metadata": {},
   "outputs": [],
   "source": [
    "# decision tree regression with all features"
   ]
  },
  {
   "cell_type": "code",
   "execution_count": 224,
   "metadata": {},
   "outputs": [
    {
     "data": {
      "text/plain": [
       "1.0"
      ]
     },
     "execution_count": 224,
     "metadata": {},
     "output_type": "execute_result"
    }
   ],
   "source": [
    "from sklearn.tree import DecisionTreeRegressor\n",
    "dt_reg = DecisionTreeRegressor()\n",
    "features_cols = ['year', 'running_time', 'views', 'likes', 'half_star', 'one_half_star', 'two_star', 'two_half_star', 'three_star', 'three_half_star', 'four_star', 'four_half_star', 'five_star', 'animation', 'horror', 'scifi', 'thriller', 'war']\n",
    "features = df[features_cols]\n",
    "X = features\n",
    "y = df['avg_rating']\n",
    "X_train_true, X_test_true, y_train_true, y_test_true = train_test_split(X, y, test_size = 0.3, random_state=42)\n",
    "dt_reg.fit(X_train_true, y_train_true)\n",
    "dt_reg.score(X_train_true, y_train_true)"
   ]
  },
  {
   "cell_type": "code",
   "execution_count": 225,
   "metadata": {},
   "outputs": [
    {
     "data": {
      "text/plain": [
       "0.9702959072811396"
      ]
     },
     "execution_count": 225,
     "metadata": {},
     "output_type": "execute_result"
    }
   ],
   "source": [
    "dt_acc = dt_reg.score(X_test_true, y_test_true)\n",
    "dt_acc"
   ]
  },
  {
   "cell_type": "code",
   "execution_count": 226,
   "metadata": {},
   "outputs": [
    {
     "data": {
      "text/plain": [
       "0.08218853846738991"
      ]
     },
     "execution_count": 226,
     "metadata": {},
     "output_type": "execute_result"
    }
   ],
   "source": [
    "y_test_pred = dt_reg.predict(X_test_true)\n",
    "rmse = np.sqrt(mean_squared_error(y_test_true, y_test_pred))\n",
    "rmse"
   ]
  },
  {
   "cell_type": "code",
   "execution_count": 227,
   "metadata": {},
   "outputs": [],
   "source": [
    "# very high score as well "
   ]
  },
  {
   "cell_type": "code",
   "execution_count": 228,
   "metadata": {},
   "outputs": [],
   "source": [
    "#best models: gradient boosting, KNeighbors and Decision Tree"
   ]
  },
  {
   "cell_type": "code",
   "execution_count": 230,
   "metadata": {},
   "outputs": [
    {
     "data": {
      "image/png": "[encoded data removed]",
      "text/plain": [
       "<Figure size 432x288 with 1 Axes>"
      ]
     },
     "metadata": {
      "needs_background": "light"
     },
     "output_type": "display_data"
    }
   ],
   "source": [
    "index_acc = ['Gradient Boosting', 'KNeighbors', 'Decision Tree']\n",
    "Accuracy_score = [gb_acc,kn_acc,dt_acc]\n",
    "plt.xlabel('Models',fontsize=15)\n",
    "plt.ylabel ('Model accuracy scores',fontsize=15)\n",
    "plt.title('Comparison of the algorithms',fontsize=15)\n",
    "_=plt.bar(index_acc,Accuracy_score,color='coral',alpha=0.8,label='Accuracy score',edgecolor='k',width=0.3)\n",
    "plt.show()"
   ]
  },
  {
   "cell_type": "code",
   "execution_count": null,
   "metadata": {},
   "outputs": [],
   "source": []
  }
 ],
 "metadata": {
  "kernelspec": {
   "display_name": "Python 3",
   "language": "python",
   "name": "python3"
  },
  "language_info": {
   "codemirror_mode": {
    "name": "ipython",
    "version": 3
   },
   "file_extension": ".py",
   "mimetype": "text/x-python",
   "name": "python",
   "nbconvert_exporter": "python",
   "pygments_lexer": "ipython3",
   "version": "3.8.5"
  }
 },
 "nbformat": 4,
 "nbformat_minor": 2
}
